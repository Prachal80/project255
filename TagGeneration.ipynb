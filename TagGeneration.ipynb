{
 "cells": [
  {
   "cell_type": "code",
   "execution_count": 3,
   "metadata": {},
   "outputs": [],
   "source": [
    "# Import statements\n",
    "import numpy as np\n",
    "import pandas as pd\n",
    "import os\n",
    "import sys"
   ]
  },
  {
   "cell_type": "code",
   "execution_count": 4,
   "metadata": {},
   "outputs": [
    {
     "name": "stdout",
     "output_type": "stream",
     "text": [
      "Index(['id', 'title', 'publication', 'author', 'date', 'year', 'month', 'url',\n",
      "       'content'],\n",
      "      dtype='object')\n"
     ]
    }
   ],
   "source": [
    "# Load the data into pandas frame\n",
    "path = './data/articles1.csv'\n",
    "if os.path.exists(path):\n",
    "    chunk_list = []\n",
    "    reader_obj = pd.read_csv(path,chunksize=10000) \n",
    "    try:\n",
    "        for chunk in reader_obj:\n",
    "            chunk_list.append(chunk)\n",
    "        data_frame = pd.concat(chunk_list).drop(['Unnamed: 0'],axis=1)\n",
    "        print(data_frame.columns)\n",
    "    except:\n",
    "        # handle the file not found error\n",
    "        print(sys.exc_info())"
   ]
  },
  {
   "cell_type": "markdown",
   "metadata": {},
   "source": [
    "## Display a simple text"
   ]
  },
  {
   "cell_type": "code",
   "execution_count": 5,
   "metadata": {},
   "outputs": [
    {
     "name": "stdout",
     "output_type": "stream",
     "text": [
      "With Donald J. Trump about to take control of the White House, it would seem a dark time for the renewable energy industry. After all, Mr. Trump has mocked the science of global warming as a Chinese hoax, threatened to kill a global deal on climate change and promised to restore the coal industry to its former glory. So consider what happened in the middle of December, after investors had had a month to absorb the implications of Mr. Trump’s victory. The federal government opened bidding on a tract of the ocean floor off New York State as a potential site for a huge wind farm. Up, up and away soared the offers  —   interest from the bidders was so fevered that the auction went through 33 rounds and spilled over to a second day. In the end, the winning bidder offered the federal Treasury $42 million, more than twice what the government got in August for oil leases  —   oil leases  —   in the Gulf of Mexico. Who won the bid? None other than Statoil, the Norwegian oil company, which is in the midst of a major campaign to turn itself into a big player in renewable energy. We do not know for sure that the New York wind farm will get built, but we do know this: The energy transition is real, and Mr. Trump is not going to stop it. On a global scale, more than half the investment in new electricity generation is going into renewable energy. That is more than $300 billion a year, a sign of how powerful the momentum has become. Wind power is booming in the United States, with the industry adding manufacturing jobs in the reddest states. When Mr. Trump’s appointees examine the facts, they will learn that   technician is projected to be the   occupation in America over the next decade. The election of Mr. Trump left climate activists and environmental groups in despair. They had pinned their hopes on a Hillary Clinton victory and a continuation of President Obama’s strong push to tackle global warming. Now, of course, everything is in flux. In the worst case, with a sufficiently pliant Congress, Mr. Trump could roll back a decade of progress on climate change. Barring some miraculous conversion on Mr. Trump’s part, his election cannot be interpreted as anything but bad news for the climate agenda. Yet despair might be an overreaction. For starters, when Mr. Trump gets to the White House, he will find that the federal government actually has relatively little control over American energy policy, and particularly over electricity generation. The coal industry has been ravaged in part by cheap natural gas, which is abundant because of technological changes in the way it is produced, and there is no lever in the Oval Office that Mr. Trump can pull to reverse that. The intrinsically weak federal role was a source of frustration for Mr. Obama and his aides, but now it will work to the benefit of environmental advocates. They have already persuaded more than half the states to adopt mandates on renewable energy. Efforts to roll those back have largely failed, with the latest development coming only last week, when Gov. John Kasich of Ohio, a Republican, vetoed a rollback bill. The federal government does offer important subsidies for renewable energy, and they will surely become a target in the new Congress. But those subsidies are already scheduled to fall drastically over five years, in a deal cut a year ago that gave the oil industry some favors and that passed Congress with many Republican votes. If Mr. Trump pushes for an early end to the subsidies, he will find that renewable energy has friends in the Republican Party. Topping that list is Charles E. Grassley, the senior senator from Iowa. That state  —     in presidential politics, let us remember  —   will soon be getting 40 percent of its electricity from wind power. “Senator Grassley has been and continues to be an extraordinary leader and champion for the wind industry,” said Tom Kiernan, the head of the American Wind Energy Association, a trade group. When I spoke with him last week, Mr. Kiernan did not sound like a man gnashing his teeth about the impending Trump era. By his group’s calculations, $80 billion of wind industry investment is in the pipeline for the United States over the next few years. “We are creating jobs throughout America,   jobs, and we think   Trump will want that to continue,” he said. If Mr. Trump really wanted to roll back the clock, he could try to get Congress to override all the state mandates, a gross violation of the supposed conservative commitment to federalism. But it would be a titanic fight, some Republican senators would defect on principle, and Mr. Trump would almost certainly lose. So if the damage Mr. Trump can do domestically is limited by circumstance, what about the international effort against global warming? That is the prospect that has David G. Victor most worried. Dr. Victor, a professor at the University of California at San Diego, is one of the closest observers of global climate politics. While the nations of the world agreed a year ago to a landmark deal to tackle global warming, that consensus is fragile, he pointed out. The Paris Agreement is really an outline more promise than reality. Mr. Trump has vowed to withdraw. Right now, other countries are saying they will go forward even if he does so, but it is not hard to imagine the thing unraveling. As part of the negotiations, the Obama administration promised billions of dollars from American taxpayers to help poor countries adjust to the devastation of global warming. “That’s a big part of the glue that held the Paris deal together,” Dr. Victor pointed out. Mr. Trump is considered likely to abandon that pledge. Perhaps the biggest threat to the climate agenda posed by the incoming administration is not anything that Mr. Trump might do, but rather what he will not do. While the energy transition is real, it is still in its earliest stages. Iowa may soon get 40 percent of its power from wind, but for the United States as a whole, the figure is closer to 5 percent. The transition is simply not happening fast enough. The pledges countries made in Paris, even if kept, are not ambitious enough. To meet the climate goals embodied in the Paris Agreement, the world needed an American president who would have pushed hard to accelerate the energy transition. You can debate whether Mrs. Clinton would have been that president, but it is certainly clear that Mr. Trump will not be. So as Washington goes into reverse gear on climate policy, seas will keep rising and heat waves will get worse. Later this month, global monitoring agencies are expected to report that 2016 was the hottest year in the historical record, beating out 2015, which beat out 2014. If nothing else, the next four years may be a fascinating test of just how far politics can become divorced from physical reality.\n"
     ]
    }
   ],
   "source": [
    "# Displaying a sample content\n",
    "sample_content = data_frame['content'][10]\n",
    "print(sample_content)"
   ]
  },
  {
   "cell_type": "markdown",
   "metadata": {},
   "source": [
    "# Tokenization\n",
    "### Tokenizations is the process of separating each and every small letter of the sentence.\n",
    "\n",
    "# Removal of Stop Words: \n",
    "### In this process we are also eliminating the stop words in order to extract only words \n"
   ]
  },
  {
   "cell_type": "code",
   "execution_count": 6,
   "metadata": {},
   "outputs": [
    {
     "name": "stdout",
     "output_type": "stream",
     "text": [
      "1184\n"
     ]
    }
   ],
   "source": [
    "\n",
    "from nltk.tokenize import RegexpTokenizer\n",
    "from nltk.corpus import stopwords\n",
    "\n",
    "def tokenization(content):\n",
    "    tokenizer = RegexpTokenizer(r'\\w+')\n",
    "    token_list = tokenizer.tokenize(content.lower())\n",
    "    return token_list\n",
    "token_list = tokenization(sample_content)\n",
    "print(len(token_list))"
   ]
  },
  {
   "cell_type": "code",
   "execution_count": 36,
   "metadata": {},
   "outputs": [
    {
     "name": "stdout",
     "output_type": "stream",
     "text": [
      "646\n"
     ]
    }
   ],
   "source": [
    "from nltk.corpus import stopwords\n",
    "def stop_words_filter(token_list):\n",
    "    stopword_set = set(stopwords.words('english'))\n",
    "    filtered_tokens = []\n",
    "    for token in token_list:\n",
    "        if token not in stopword_set and token.isnumeric() == False:\n",
    "            filtered_tokens.append(token)\n",
    "    return filtered_tokens\n",
    "filtered_tokens = stop_words_filter(token_list)\n",
    "print(len(filtered_tokens))"
   ]
  },
  {
   "cell_type": "markdown",
   "metadata": {},
   "source": [
    "### As you can see we were able to remove a lot of unnecessary words from the tokens"
   ]
  },
  {
   "cell_type": "markdown",
   "metadata": {},
   "source": [
    "### Stemming and lemmatization\n",
    "#### For grammatical reasons, documents are going to use different forms of a word, such as organize, organizes, and organizing. Additionally, there are families of derivationally related words with similar meanings, such as democracy, democratic, and democratization. In many situations, it seems as if it would be useful for a search for one of these words to return documents that contain another word in the set.\n",
    "\n",
    "#### The goal of both stemming and lemmatization is to reduce inflectional forms and sometimes derivationally related forms of a word to a common base form. For instance:\n",
    "\n",
    "#### &emsp;  &emsp; am, are, is $\\Rightarrow$ be\n",
    "#### &emsp;  &emsp; car, cars, car's, cars' $\\Rightarrow$ car\n",
    "#### The result of this mapping of text will be something like:\n",
    "#### &emsp;  &emsp; the boy's cars are different colors $\\Rightarrow$\n",
    "#### &emsp;  &emsp; the boy car be differ color\n",
    "#### However, the two words differ in their flavor. Stemming usually refers to a crude heuristic process that chops off the ends of words in the hope of achieving this goal correctly most of the time, and often includes the removal of derivational affixes. Lemmatization usually refers to doing things properly with the use of a vocabulary and morphological analysis of words, normally aiming to remove inflectional endings only and to return the base or dictionary form of a word, which is known as the lemma . If confronted with the token saw, stemming might return just s, whereas lemmatization would attempt to return either see or saw depending on whether the use of the token was as a verb or a noun. The two may also differ in that stemming most commonly collapses derivationally related words, whereas lemmatization commonly only collapses the different inflectional forms of a lemma. Linguistic processing for stemming or lemmatization is often done by an additional plug-in component to the indexing process, and a number of such components exist, both commercial and open-source.\n",
    "\n",
    "#### For more information refer: https://nlp.stanford.edu/IR-book/html/htmledition/stemming-and-lemmatization-1.html"
   ]
  },
  {
   "cell_type": "markdown",
   "metadata": {},
   "source": [
    "### NOTE: In the below method if you uncomment the two print lines you will be able to see what this function is doing. This will help to improve the performance of count-based clustering techniques. Also it will reduce the size of sparse matrix.\n",
    "\n",
    "#### Example there are many examples which are being lemmatized like \n",
    "##### eg 1 . rounds => round \n",
    "##### eg 2 . leases => lease\n",
    "##### eg 3 . jobs => job\n",
    "##### eg 4 . appointees => appointee\n"
   ]
  },
  {
   "cell_type": "code",
   "execution_count": 37,
   "metadata": {},
   "outputs": [],
   "source": [
    "# Lemmatization \n",
    "from nltk.stem import WordNetLemmatizer\n",
    "def lemmatize_tokens(filtered_tokens):\n",
    "    lemmatized = []\n",
    "    lemmatizer = WordNetLemmatizer()\n",
    "    for token in filtered_tokens:\n",
    "        lemmatized.append(lemmatizer.lemmatize(token))\n",
    "        #print(\"token: \" + token)\n",
    "        #print(\"Lemmantized \"+lemmatizer.lemmatize(token))\n",
    "    lemmatized_string = ' '.join(lemmatized)\n",
    "    return lemmatized_string\n",
    "lemmatized_string = lemmatize_tokens(filtered_tokens)"
   ]
  },
  {
   "cell_type": "code",
   "execution_count": 38,
   "metadata": {},
   "outputs": [
    {
     "name": "stdout",
     "output_type": "stream",
     "text": [
      "                                               content\n",
      "0    washington congressional republicans new fear ...\n",
      "1    bullet shells get counted blood dries votive c...\n",
      "2    walt disney bambi opened critics praised spare...\n",
      "3    death may great equalizer necessarily evenhand...\n",
      "4    seoul south korea north korea leader kim said ...\n",
      "..                                                 ...\n",
      "995  many world winter athletes preparing season ch...\n",
      "996  mother jones named magazine year tuesday findi...\n",
      "997  marissa alexander longer wears ankle monitor f...\n",
      "998  support among american high school students fi...\n",
      "999  damien chazelle writer director musical la la ...\n",
      "\n",
      "[1000 rows x 1 columns]\n"
     ]
    }
   ],
   "source": [
    "# Create a data pipeline to process the dataset \n",
    "from nltk.tokenize import word_tokenize\n",
    "def data_preprocessing(data_frame):\n",
    "    \n",
    "    res = pd.DataFrame()\n",
    "    # Step 1: Tokenization\n",
    "    tmp_data_frame = data_frame['content'][0:1000].apply(lambda row:tokenization(row))\n",
    "\n",
    "    # Step 2: Remove stop words\n",
    "    tmp_data_frame = tmp_data_frame.apply(lambda row: stop_words_filter(row))\n",
    "\n",
    "    # Step 3: Make a string\n",
    "    tmp_data_frame = tmp_data_frame.apply(lambda row: ' '.join(row))\n",
    "\n",
    "    res = pd.concat([res,tmp_data_frame])\n",
    "\n",
    "    '''\n",
    "    total_records = len(data_frame)  #50000\n",
    "    start = 0 \n",
    "    interval = ((total_records - start) // 50 ) #1000\n",
    "    # The processing in chunks will reduce the memory load\n",
    "    for i in range(start,total_records,interval):\n",
    "        # Step 1: Tokenization\n",
    "        tmp_data_frame = data_frame['content'][i:i+interval].apply(lambda row:tokenization(row))\n",
    "        \n",
    "        # Step 2: Remove stop words\n",
    "        tmp_data_frame = tmp_data_frame.apply(lambda row: stop_words_filter(row))\n",
    "        \n",
    "        # Step 3: Make a string\n",
    "        tmp_data_frame = tmp_data_frame.apply(lambda row: ' '.join(row))\n",
    "            \n",
    "        res = pd.concat([res,tmp_data_frame])\n",
    "    '''\n",
    "        \n",
    "    \n",
    "    res.columns = ['content']\n",
    "    return res\n",
    "\n",
    "df = data_preprocessing(data_frame)\n",
    "print(df)"
   ]
  },
  {
   "cell_type": "code",
   "execution_count": 40,
   "metadata": {},
   "outputs": [
    {
     "name": "stdout",
     "output_type": "stream",
     "text": [
      "(1000, 37698)\n"
     ]
    }
   ],
   "source": [
    "from sklearn.feature_extraction.text import CountVectorizer\n",
    "def create_sparse_mat(corpus):\n",
    "    vectorizer = CountVectorizer()\n",
    "    x = vectorizer.fit_transform(corpus)\n",
    "    word_features = vectorizer.get_feature_names()\n",
    "    print(word_features)\n",
    "    return x\n",
    "\n",
    "sparse_mat = create_sparse_mat(df['content'])\n",
    "print(sparse_mat.shape)    \n"
   ]
  },
  {
   "cell_type": "code",
   "execution_count": null,
   "metadata": {},
   "outputs": [],
   "source": []
  }
 ],
 "metadata": {
  "kernelspec": {
   "display_name": "Python 3",
   "language": "python",
   "name": "python3"
  },
  "language_info": {
   "codemirror_mode": {
    "name": "ipython",
    "version": 3
   },
   "file_extension": ".py",
   "mimetype": "text/x-python",
   "name": "python",
   "nbconvert_exporter": "python",
   "pygments_lexer": "ipython3",
   "version": "3.8.2"
  }
 },
 "nbformat": 4,
 "nbformat_minor": 2
}
