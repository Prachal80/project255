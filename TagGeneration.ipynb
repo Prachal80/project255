{
 "cells": [
  {
   "cell_type": "code",
   "execution_count": 10,
   "metadata": {},
   "outputs": [],
   "source": [
    "# Import statements\n",
    "import numpy as np\n",
    "import pandas as pd\n",
    "import os\n",
    "import sys"
   ]
  },
  {
   "cell_type": "code",
   "execution_count": 21,
   "metadata": {},
   "outputs": [
    {
     "name": "stdout",
     "output_type": "stream",
     "text": [
      "Index(['id', 'title', 'publication', 'author', 'date', 'year', 'month', 'url',\n",
      "       'content'],\n",
      "      dtype='object')\n",
      "(142570, 9)\n"
     ]
    }
   ],
   "source": [
    "# Load the data into pandas frame\n",
    "data_frame = pd.DataFrame()\n",
    "for i in range(1,4,1):\n",
    "    try:\n",
    "        path = './data/articles'+str(i)+'.csv'\n",
    "        if os.path.exists(path):\n",
    "            chunk_list = []\n",
    "            reader_obj = pd.read_csv(path,chunksize=10000) \n",
    "            for chunk in reader_obj:\n",
    "                chunk_list.append(chunk)    \n",
    "            data_frame = pd.concat([data_frame,pd.concat(chunk_list).drop(['Unnamed: 0'],axis=1)],ignore_index=True)\n",
    "    except:\n",
    "        # handle the file not found error\n",
    "        print(sys.exc_info())\n",
    "    \n",
    "print(data_frame.columns)\n",
    "print(data_frame.shape)"
   ]
  },
  {
   "cell_type": "code",
   "execution_count": 22,
   "metadata": {},
   "outputs": [
    {
     "data": {
      "text/plain": [
       "0         WASHINGTON  —   Congressional Republicans have...\n",
       "1         After the bullet shells get counted, the blood...\n",
       "2         When Walt Disney’s “Bambi” opened in 1942, cri...\n",
       "3         Death may be the great equalizer, but it isn’t...\n",
       "4         SEOUL, South Korea  —   North Korea’s leader, ...\n",
       "                                ...                        \n",
       "142565             Uber driver Keith Avila picked up a p...\n",
       "142566             Crews on Friday continued to search L...\n",
       "142567         When the Obama administration announced a...\n",
       "142568         This story has been updated. A new law in...\n",
       "142569         The nation’s first recreational marijuana...\n",
       "Name: content, Length: 142570, dtype: object"
      ]
     },
     "execution_count": 22,
     "metadata": {},
     "output_type": "execute_result"
    }
   ],
   "source": [
    "data_frame['content']"
   ]
  },
  {
   "cell_type": "markdown",
   "metadata": {},
   "source": [
    "## Display a simple text"
   ]
  },
  {
   "cell_type": "code",
   "execution_count": 23,
   "metadata": {},
   "outputs": [
    {
     "name": "stdout",
     "output_type": "stream",
     "text": [
      "With Donald J. Trump about to take control of the White House, it would seem a dark time for the renewable energy industry. After all, Mr. Trump has mocked the science of global warming as a Chinese hoax, threatened to kill a global deal on climate change and promised to restore the coal industry to its former glory. So consider what happened in the middle of December, after investors had had a month to absorb the implications of Mr. Trump’s victory. The federal government opened bidding on a tract of the ocean floor off New York State as a potential site for a huge wind farm. Up, up and away soared the offers  —   interest from the bidders was so fevered that the auction went through 33 rounds and spilled over to a second day. In the end, the winning bidder offered the federal Treasury $42 million, more than twice what the government got in August for oil leases  —   oil leases  —   in the Gulf of Mexico. Who won the bid? None other than Statoil, the Norwegian oil company, which is in the midst of a major campaign to turn itself into a big player in renewable energy. We do not know for sure that the New York wind farm will get built, but we do know this: The energy transition is real, and Mr. Trump is not going to stop it. On a global scale, more than half the investment in new electricity generation is going into renewable energy. That is more than $300 billion a year, a sign of how powerful the momentum has become. Wind power is booming in the United States, with the industry adding manufacturing jobs in the reddest states. When Mr. Trump’s appointees examine the facts, they will learn that   technician is projected to be the   occupation in America over the next decade. The election of Mr. Trump left climate activists and environmental groups in despair. They had pinned their hopes on a Hillary Clinton victory and a continuation of President Obama’s strong push to tackle global warming. Now, of course, everything is in flux. In the worst case, with a sufficiently pliant Congress, Mr. Trump could roll back a decade of progress on climate change. Barring some miraculous conversion on Mr. Trump’s part, his election cannot be interpreted as anything but bad news for the climate agenda. Yet despair might be an overreaction. For starters, when Mr. Trump gets to the White House, he will find that the federal government actually has relatively little control over American energy policy, and particularly over electricity generation. The coal industry has been ravaged in part by cheap natural gas, which is abundant because of technological changes in the way it is produced, and there is no lever in the Oval Office that Mr. Trump can pull to reverse that. The intrinsically weak federal role was a source of frustration for Mr. Obama and his aides, but now it will work to the benefit of environmental advocates. They have already persuaded more than half the states to adopt mandates on renewable energy. Efforts to roll those back have largely failed, with the latest development coming only last week, when Gov. John Kasich of Ohio, a Republican, vetoed a rollback bill. The federal government does offer important subsidies for renewable energy, and they will surely become a target in the new Congress. But those subsidies are already scheduled to fall drastically over five years, in a deal cut a year ago that gave the oil industry some favors and that passed Congress with many Republican votes. If Mr. Trump pushes for an early end to the subsidies, he will find that renewable energy has friends in the Republican Party. Topping that list is Charles E. Grassley, the senior senator from Iowa. That state  —     in presidential politics, let us remember  —   will soon be getting 40 percent of its electricity from wind power. “Senator Grassley has been and continues to be an extraordinary leader and champion for the wind industry,” said Tom Kiernan, the head of the American Wind Energy Association, a trade group. When I spoke with him last week, Mr. Kiernan did not sound like a man gnashing his teeth about the impending Trump era. By his group’s calculations, $80 billion of wind industry investment is in the pipeline for the United States over the next few years. “We are creating jobs throughout America,   jobs, and we think   Trump will want that to continue,” he said. If Mr. Trump really wanted to roll back the clock, he could try to get Congress to override all the state mandates, a gross violation of the supposed conservative commitment to federalism. But it would be a titanic fight, some Republican senators would defect on principle, and Mr. Trump would almost certainly lose. So if the damage Mr. Trump can do domestically is limited by circumstance, what about the international effort against global warming? That is the prospect that has David G. Victor most worried. Dr. Victor, a professor at the University of California at San Diego, is one of the closest observers of global climate politics. While the nations of the world agreed a year ago to a landmark deal to tackle global warming, that consensus is fragile, he pointed out. The Paris Agreement is really an outline more promise than reality. Mr. Trump has vowed to withdraw. Right now, other countries are saying they will go forward even if he does so, but it is not hard to imagine the thing unraveling. As part of the negotiations, the Obama administration promised billions of dollars from American taxpayers to help poor countries adjust to the devastation of global warming. “That’s a big part of the glue that held the Paris deal together,” Dr. Victor pointed out. Mr. Trump is considered likely to abandon that pledge. Perhaps the biggest threat to the climate agenda posed by the incoming administration is not anything that Mr. Trump might do, but rather what he will not do. While the energy transition is real, it is still in its earliest stages. Iowa may soon get 40 percent of its power from wind, but for the United States as a whole, the figure is closer to 5 percent. The transition is simply not happening fast enough. The pledges countries made in Paris, even if kept, are not ambitious enough. To meet the climate goals embodied in the Paris Agreement, the world needed an American president who would have pushed hard to accelerate the energy transition. You can debate whether Mrs. Clinton would have been that president, but it is certainly clear that Mr. Trump will not be. So as Washington goes into reverse gear on climate policy, seas will keep rising and heat waves will get worse. Later this month, global monitoring agencies are expected to report that 2016 was the hottest year in the historical record, beating out 2015, which beat out 2014. If nothing else, the next four years may be a fascinating test of just how far politics can become divorced from physical reality.\n"
     ]
    }
   ],
   "source": [
    "sample_content = data_frame['content'][10]\n",
    "print(sample_content)"
   ]
  },
  {
   "cell_type": "markdown",
   "metadata": {},
   "source": [
    "# Tokenization\n",
    "### Tokenizations is the process of separating each and every small letter of the sentence.\n",
    "\n",
    "# Removal of Stop Words: \n",
    "### In this process we are also eliminating the stop words in order to extract only words \n"
   ]
  },
  {
   "cell_type": "code",
   "execution_count": 24,
   "metadata": {},
   "outputs": [
    {
     "name": "stdout",
     "output_type": "stream",
     "text": [
      "1184\n"
     ]
    }
   ],
   "source": [
    "from nltk.tokenize import RegexpTokenizer\n",
    "from nltk.corpus import stopwords\n",
    "def tokenization(content):\n",
    "    tokenizer = RegexpTokenizer(r'\\w+')\n",
    "    token_list = tokenizer.tokenize(content.lower())\n",
    "    return token_list\n",
    "token_list = tokenization(sample_content)\n",
    "# print(token_list)\n",
    "print(len(token_list))"
   ]
  },
  {
   "cell_type": "code",
   "execution_count": 25,
   "metadata": {},
   "outputs": [],
   "source": [
    "import nltk\n",
    "words = set(nltk.corpus.words.words())\n",
    "\n",
    "def remove_non_english(content):\n",
    "    return \" \".join(w for w in nltk.wordpunct_tokenize(content) \n",
    "            if w.lower() in words or not w.isalpha())"
   ]
  },
  {
   "cell_type": "code",
   "execution_count": 26,
   "metadata": {},
   "outputs": [
    {
     "name": "stderr",
     "output_type": "stream",
     "text": [
      "[nltk_data] Downloading package stopwords to C:\\Users\\Dharmang\n",
      "[nltk_data]     Solanki\\AppData\\Roaming\\nltk_data...\n",
      "[nltk_data]   Package stopwords is already up-to-date!\n"
     ]
    },
    {
     "data": {
      "text/plain": [
       "True"
      ]
     },
     "execution_count": 26,
     "metadata": {},
     "output_type": "execute_result"
    }
   ],
   "source": [
    "import nltk\n",
    "nltk.download('stopwords')"
   ]
  },
  {
   "cell_type": "code",
   "execution_count": 27,
   "metadata": {},
   "outputs": [],
   "source": [
    "from nltk.corpus import stopwords\n",
    "def stop_words_filter(token_list):\n",
    "    stopword_set = set(stopwords.words('english'))    \n",
    "    filtered_tokens = []\n",
    "    for token in token_list:\n",
    "        if token not in stopword_set and token.isnumeric() == False:\n",
    "            filtered_tokens.append(token)\n",
    "    return filtered_tokens\n",
    "\n",
    "filtered_tokens = stop_words_filter(token_list)\n",
    "# print(filtered_tokens)"
   ]
  },
  {
   "cell_type": "markdown",
   "metadata": {},
   "source": [
    "### As you can see we were able to remove a lot of unnecessary words from the tokens"
   ]
  },
  {
   "cell_type": "markdown",
   "metadata": {},
   "source": [
    "### Stemming and lemmatization\n",
    "#### For grammatical reasons, documents are going to use different forms of a word, such as organize, organizes, and organizing. Additionally, there are families of derivationally related words with similar meanings, such as democracy, democratic, and democratization. In many situations, it seems as if it would be useful for a search for one of these words to return documents that contain another word in the set.\n",
    "\n",
    "#### The goal of both stemming and lemmatization is to reduce inflectional forms and sometimes derivationally related forms of a word to a common base form. For instance:\n",
    "\n",
    "#### &emsp;  &emsp; am, are, is $\\Rightarrow$ be\n",
    "#### &emsp;  &emsp; car, cars, car's, cars' $\\Rightarrow$ car\n",
    "#### The result of this mapping of text will be something like:\n",
    "#### &emsp;  &emsp; the boy's cars are different colors $\\Rightarrow$\n",
    "#### &emsp;  &emsp; the boy car be differ color\n",
    "#### However, the two words differ in their flavor. Stemming usually refers to a crude heuristic process that chops off the ends of words in the hope of achieving this goal correctly most of the time, and often includes the removal of derivational affixes. Lemmatization usually refers to doing things properly with the use of a vocabulary and morphological analysis of words, normally aiming to remove inflectional endings only and to return the base or dictionary form of a word, which is known as the lemma . If confronted with the token saw, stemming might return just s, whereas lemmatization would attempt to return either see or saw depending on whether the use of the token was as a verb or a noun. The two may also differ in that stemming most commonly collapses derivationally related words, whereas lemmatization commonly only collapses the different inflectional forms of a lemma. Linguistic processing for stemming or lemmatization is often done by an additional plug-in component to the indexing process, and a number of such components exist, both commercial and open-source.\n",
    "\n",
    "#### For more information refer: https://nlp.stanford.edu/IR-book/html/htmledition/stemming-and-lemmatization-1.html"
   ]
  },
  {
   "cell_type": "markdown",
   "metadata": {},
   "source": [
    "### NOTE: In the below method if you uncomment the two print lines you will be able to see what this function is doing. This will help to improve the performance of count-based clustering techniques. Also it will reduce the size of sparse matrix.\n",
    "\n",
    "#### Example there are many examples which are being lemmatized like \n",
    "##### eg 1 . rounds => round \n",
    "##### eg 2 . leases => lease\n",
    "##### eg 3 . jobs => job\n",
    "##### eg 4 . appointees => appointee\n"
   ]
  },
  {
   "cell_type": "code",
   "execution_count": 28,
   "metadata": {},
   "outputs": [
    {
     "name": "stderr",
     "output_type": "stream",
     "text": [
      "[nltk_data] Downloading package wordnet to C:\\Users\\Dharmang\n",
      "[nltk_data]     Solanki\\AppData\\Roaming\\nltk_data...\n",
      "[nltk_data]   Package wordnet is already up-to-date!\n"
     ]
    },
    {
     "data": {
      "text/plain": [
       "True"
      ]
     },
     "execution_count": 28,
     "metadata": {},
     "output_type": "execute_result"
    }
   ],
   "source": [
    "import nltk\n",
    "nltk.download('wordnet')"
   ]
  },
  {
   "cell_type": "code",
   "execution_count": 29,
   "metadata": {},
   "outputs": [],
   "source": [
    "# Lemmatization \n",
    "from nltk.stem import WordNetLemmatizer\n",
    "def lemmatize_tokens(filtered_tokens):\n",
    "    lemmatized = []\n",
    "    lemmatizer = WordNetLemmatizer()\n",
    "    for token in filtered_tokens:\n",
    "        lemmatized.append(lemmatizer.lemmatize(token))\n",
    "        #print(\"token: \" + token)\n",
    "        #print(\"Lemmantized \"+lemmatizer.lemmatize(token))\n",
    "    lemmatized_string = ' '.join(lemmatized)\n",
    "    return lemmatized_string\n",
    "lemmatized_string = lemmatize_tokens(filtered_tokens)"
   ]
  },
  {
   "cell_type": "code",
   "execution_count": 30,
   "metadata": {},
   "outputs": [
    {
     "name": "stdout",
     "output_type": "stream",
     "text": [
      "(142570, 1)\n"
     ]
    }
   ],
   "source": [
    "# Create a data pipeline to process the dataset \n",
    "from nltk.tokenize import word_tokenize\n",
    "def data_preprocessing(data_frame):\n",
    "\n",
    "    res = pd.DataFrame()\n",
    "    '''\n",
    "\n",
    "    # Step 1: Tokenization\n",
    "    tmp_data_frame = data_frame['content'][0:1000].apply(lambda row:tokenization(row))\n",
    "\n",
    "    # Step 2: Remove stop words\n",
    "    tmp_data_frame = tmp_data_frame.apply(lambda row: stop_words_filter(row))\n",
    "\n",
    "    # Step 3: Make a string\n",
    "    tmp_data_frame = tmp_data_frame.apply(lambda row: ' '.join(row))\n",
    "\n",
    "    res = pd.concat([res,tmp_data_frame])\n",
    "\n",
    "    '''\n",
    "    \n",
    "    total_records = len(data_frame)  #50000\n",
    "    start = 0 \n",
    "    interval = ((total_records - start) // 50 ) #1000\n",
    "    # The processing in chunks will reduce the memory load\n",
    "    for i in range(start,total_records,interval):\n",
    "        \n",
    "#         print(i)\n",
    "        # Step 1: Tokenization\n",
    "        tmp_data_frame = data_frame['content'][i:i+interval].apply(lambda row:tokenization(row))\n",
    "        \n",
    "        # Step 2: Remove stop words\n",
    "        tmp_data_frame = tmp_data_frame.apply(lambda row: stop_words_filter(row))\n",
    "        \n",
    "        # Step 3: Make a string\n",
    "        tmp_data_frame = tmp_data_frame.apply(lambda row: ' '.join(row))\n",
    "        \n",
    "        #Step 4: Reomve non-english words\n",
    "        tmp_data_frame = tmp_data_frame.apply(lambda row: remove_non_english(row))\n",
    "            \n",
    "        res = pd.concat([res,tmp_data_frame])\n",
    "        \n",
    "    res.columns = ['content']\n",
    "    return res\n",
    "\n",
    "df = data_preprocessing(data_frame)\n",
    "print(df.shape)"
   ]
  },
  {
   "cell_type": "code",
   "execution_count": 35,
   "metadata": {},
   "outputs": [
    {
     "data": {
      "text/plain": [
       "388"
      ]
     },
     "execution_count": 35,
     "metadata": {},
     "output_type": "execute_result"
    }
   ],
   "source": [
    "len(df['content'][0].split())"
   ]
  },
  {
   "cell_type": "code",
   "execution_count": 36,
   "metadata": {},
   "outputs": [],
   "source": [
    "from sklearn.feature_extraction.text import CountVectorizer\n",
    "def create_sparse_mat(corpus):\n",
    "    vectorizer = CountVectorizer()\n",
    "    x = vectorizer.fit_transform(corpus)\n",
    "    word_features = vectorizer.get_feature_names()\n",
    "#     print(word_features)\n",
    "    return x\n",
    "\n",
    "sparse_mat = create_sparse_mat(df['content'])\n",
    "# print(sparse_mat.shape)    \n"
   ]
  },
  {
   "cell_type": "markdown",
   "metadata": {},
   "source": [
    "### Save the sparse matrix to file "
   ]
  },
  {
   "cell_type": "code",
   "execution_count": 37,
   "metadata": {},
   "outputs": [],
   "source": [
    "import scipy.sparse\n",
    "scipy.sparse.save_npz('sparse_mat.npz', sparse_mat)"
   ]
  },
  {
   "cell_type": "code",
   "execution_count": 38,
   "metadata": {},
   "outputs": [
    {
     "name": "stdout",
     "output_type": "stream",
     "text": [
      "(142570, 58626)\n"
     ]
    },
    {
     "data": {
      "text/plain": [
       "1794"
      ]
     },
     "execution_count": 38,
     "metadata": {},
     "output_type": "execute_result"
    }
   ],
   "source": [
    "print(sparse_mat.shape)\n",
    "len(df['content'][1].split())"
   ]
  },
  {
   "cell_type": "code",
   "execution_count": 39,
   "metadata": {},
   "outputs": [
    {
     "data": {
      "text/plain": [
       "'congressional new fear comes health care lawsuit administration might win incoming trump administration could choose longer defend executive branch suit administration authority spend health insurance house big victory sudden loss could conceivably cause health care program implode leaving millions people without access health insurance prepared replacement could lead chaos insurance market spur political backlash gain full control government stave outcome could find awkward position huge temporarily prop health care law conservative demanding end law another twist j trump administration worried executive branch could choose fight republican allies house central dispute eager avoid ugly political hill trump transition team gaming handle lawsuit election put limbo least late united court district circuit yet ready divulge strategy given pending litigation administration congress would inappropriate comment said j spokesman trump transition effort upon taking office trump administration evaluate case related affordable care act potentially decision judge rosemary house standing sue executive branch spending dispute administration health insurance violation constitution without approval congress justice department confident judge decision would reversed quickly place appeal successfully seeking temporary halt trump house last month told court transition team currently potential resolution matter take effect inauguration suspension case house said provide future administration time consider whether continue otherwise resolve appeal republican leadership house acknowledge possibility effects billion suddenly stopped receive exchange paying eligible could race drop coverage since would losing money loss could destabilize entire program cause lack confidence seek quick exit well trump administration might mount vigorous fight house given dim view health care law team month sought intervene case behalf two health care program request deal house new administration dismiss settle case produce devastating receive well nation health insurance health care generally matter house say want prevail two congressional power purse right congress sue executive branch constitution regarding spending power house congress never money constitution suit initially house speaker time later house committee administration desperate treasury department provide despite widespread internal skepticism spending proper white house said spending permanent part law annual appropriation even though administration initially sought one important house judge found congress standing sue white house issue ruling many legal said flawed want precedent set restore congressional leverage executive branch spending power standing trump administration may come pressure presidential authority fight house matter health care since could broad complicated set dynamics quick legal victory house trump era might come never took white house'"
      ]
     },
     "execution_count": 39,
     "metadata": {},
     "output_type": "execute_result"
    }
   ],
   "source": [
    "df['content'][0]"
   ]
  },
  {
   "cell_type": "markdown",
   "metadata": {},
   "source": [
    "# Non english words are removed from the dataset"
   ]
  },
  {
   "cell_type": "code",
   "execution_count": 40,
   "metadata": {},
   "outputs": [
    {
     "data": {
      "text/plain": [
       "['content']"
      ]
     },
     "execution_count": 40,
     "metadata": {},
     "output_type": "execute_result"
    }
   ],
   "source": [
    "list(df.columns)"
   ]
  },
  {
   "cell_type": "code",
   "execution_count": 41,
   "metadata": {},
   "outputs": [],
   "source": [
    "lda_frame = data_frame.drop(['content'],axis=1)"
   ]
  },
  {
   "cell_type": "code",
   "execution_count": 42,
   "metadata": {},
   "outputs": [],
   "source": [
    "lda_frame['content'] = df\n"
   ]
  },
  {
   "cell_type": "code",
   "execution_count": 43,
   "metadata": {},
   "outputs": [
    {
     "data": {
      "text/plain": [
       "(142570, 9)"
      ]
     },
     "execution_count": 43,
     "metadata": {},
     "output_type": "execute_result"
    }
   ],
   "source": [
    "lda_frame.shape"
   ]
  },
  {
   "cell_type": "code",
   "execution_count": 44,
   "metadata": {},
   "outputs": [
    {
     "data": {
      "text/plain": [
       "['id',\n",
       " 'title',\n",
       " 'publication',\n",
       " 'author',\n",
       " 'date',\n",
       " 'year',\n",
       " 'month',\n",
       " 'url',\n",
       " 'content']"
      ]
     },
     "execution_count": 44,
     "metadata": {},
     "output_type": "execute_result"
    }
   ],
   "source": [
    "list(lda_frame.columns)"
   ]
  },
  {
   "cell_type": "code",
   "execution_count": 45,
   "metadata": {},
   "outputs": [
    {
     "name": "stdout",
     "output_type": "stream",
     "text": [
      "House Republicans Fret About Winning Their Health Care Suit - The New York Times\n",
      "congressional new fear comes health care lawsuit administration might win incoming trump administration could choose longer defend executive branch suit administration authority spend health insurance house big victory sudden loss could conceivably cause health care program implode leaving millions people without access health insurance prepared replacement could lead chaos insurance market spur political backlash gain full control government stave outcome could find awkward position huge temporarily prop health care law conservative demanding end law another twist j trump administration worried executive branch could choose fight republican allies house central dispute eager avoid ugly political hill trump transition team gaming handle lawsuit election put limbo least late united court district circuit yet ready divulge strategy given pending litigation administration congress would inappropriate comment said j spokesman trump transition effort upon taking office trump administration evaluate case related affordable care act potentially decision judge rosemary house standing sue executive branch spending dispute administration health insurance violation constitution without approval congress justice department confident judge decision would reversed quickly place appeal successfully seeking temporary halt trump house last month told court transition team currently potential resolution matter take effect inauguration suspension case house said provide future administration time consider whether continue otherwise resolve appeal republican leadership house acknowledge possibility effects billion suddenly stopped receive exchange paying eligible could race drop coverage since would losing money loss could destabilize entire program cause lack confidence seek quick exit well trump administration might mount vigorous fight house given dim view health care law team month sought intervene case behalf two health care program request deal house new administration dismiss settle case produce devastating receive well nation health insurance health care generally matter house say want prevail two congressional power purse right congress sue executive branch constitution regarding spending power house congress never money constitution suit initially house speaker time later house committee administration desperate treasury department provide despite widespread internal skepticism spending proper white house said spending permanent part law annual appropriation even though administration initially sought one important house judge found congress standing sue white house issue ruling many legal said flawed want precedent set restore congressional leverage executive branch spending power standing trump administration may come pressure presidential authority fight house matter health care since could broad complicated set dynamics quick legal victory house trump era might come never took white house\n"
     ]
    }
   ],
   "source": [
    "print(lda_frame['title'][0])\n",
    "print(lda_frame['content'][0])"
   ]
  },
  {
   "cell_type": "code",
   "execution_count": 46,
   "metadata": {},
   "outputs": [],
   "source": [
    "lda_frame.to_csv('reduced_words.csv')"
   ]
  },
  {
   "cell_type": "code",
   "execution_count": 47,
   "metadata": {},
   "outputs": [
    {
     "name": "stderr",
     "output_type": "stream",
     "text": [
      "[nltk_data] Downloading package punkt to C:\\Users\\Dharmang\n",
      "[nltk_data]     Solanki\\AppData\\Roaming\\nltk_data...\n",
      "[nltk_data]   Package punkt is already up-to-date!\n"
     ]
    },
    {
     "data": {
      "text/plain": [
       "True"
      ]
     },
     "execution_count": 47,
     "metadata": {},
     "output_type": "execute_result"
    }
   ],
   "source": [
    "nltk.download('punkt')"
   ]
  },
  {
   "cell_type": "code",
   "execution_count": 48,
   "metadata": {},
   "outputs": [],
   "source": [
    "from nltk.tokenize import word_tokenize"
   ]
  },
  {
   "cell_type": "code",
   "execution_count": 49,
   "metadata": {},
   "outputs": [],
   "source": [
    "content = lda_frame['content']"
   ]
  },
  {
   "cell_type": "code",
   "execution_count": 50,
   "metadata": {},
   "outputs": [
    {
     "data": {
      "text/plain": [
       "'congressional new fear comes health care lawsuit administration might win incoming trump administration could choose longer defend executive branch suit administration authority spend health insurance house big victory sudden loss could conceivably cause health care program implode leaving millions people without access health insurance prepared replacement could lead chaos insurance market spur political backlash gain full control government stave outcome could find awkward position huge temporarily prop health care law conservative demanding end law another twist j trump administration worried executive branch could choose fight republican allies house central dispute eager avoid ugly political hill trump transition team gaming handle lawsuit election put limbo least late united court district circuit yet ready divulge strategy given pending litigation administration congress would inappropriate comment said j spokesman trump transition effort upon taking office trump administration evaluate case related affordable care act potentially decision judge rosemary house standing sue executive branch spending dispute administration health insurance violation constitution without approval congress justice department confident judge decision would reversed quickly place appeal successfully seeking temporary halt trump house last month told court transition team currently potential resolution matter take effect inauguration suspension case house said provide future administration time consider whether continue otherwise resolve appeal republican leadership house acknowledge possibility effects billion suddenly stopped receive exchange paying eligible could race drop coverage since would losing money loss could destabilize entire program cause lack confidence seek quick exit well trump administration might mount vigorous fight house given dim view health care law team month sought intervene case behalf two health care program request deal house new administration dismiss settle case produce devastating receive well nation health insurance health care generally matter house say want prevail two congressional power purse right congress sue executive branch constitution regarding spending power house congress never money constitution suit initially house speaker time later house committee administration desperate treasury department provide despite widespread internal skepticism spending proper white house said spending permanent part law annual appropriation even though administration initially sought one important house judge found congress standing sue white house issue ruling many legal said flawed want precedent set restore congressional leverage executive branch spending power standing trump administration may come pressure presidential authority fight house matter health care since could broad complicated set dynamics quick legal victory house trump era might come never took white house'"
      ]
     },
     "execution_count": 50,
     "metadata": {},
     "output_type": "execute_result"
    }
   ],
   "source": [
    "content[0]"
   ]
  },
  {
   "cell_type": "code",
   "execution_count": 51,
   "metadata": {},
   "outputs": [],
   "source": [
    "tokens = [word_tokenize(i) for i in content]"
   ]
  },
  {
   "cell_type": "code",
   "execution_count": 52,
   "metadata": {},
   "outputs": [
    {
     "data": {
      "text/plain": [
       "388"
      ]
     },
     "execution_count": 52,
     "metadata": {},
     "output_type": "execute_result"
    }
   ],
   "source": [
    "len(tokens[0])"
   ]
  },
  {
   "cell_type": "code",
   "execution_count": 53,
   "metadata": {},
   "outputs": [
    {
     "name": "stderr",
     "output_type": "stream",
     "text": [
      "c:\\users\\dharmang solanki\\appdata\\local\\programs\\python\\python37\\lib\\site-packages\\ipykernel_launcher.py:3: TqdmDeprecationWarning: This function will be removed in tqdm==5.0.0\n",
      "Please use `tqdm.notebook.tqdm` instead of `tqdm.tqdm_notebook`\n",
      "  This is separate from the ipykernel package so we can avoid doing imports until\n"
     ]
    },
    {
     "data": {
      "application/vnd.jupyter.widget-view+json": {
       "model_id": "402b9f9c8e464598989d5960729f768a",
       "version_major": 2,
       "version_minor": 0
      },
      "text/plain": [
       "HBox(children=(FloatProgress(value=1.0, bar_style='info', max=1.0), HTML(value='')))"
      ]
     },
     "metadata": {},
     "output_type": "display_data"
    },
    {
     "name": "stderr",
     "output_type": "stream",
     "text": [
      "c:\\users\\dharmang solanki\\appdata\\local\\programs\\python\\python37\\lib\\site-packages\\tqdm\\std.py:666: FutureWarning: The Panel class is removed from pandas. Accessing it from the top-level namespace will also be removed in the next version\n",
      "  from pandas import Panel\n"
     ]
    }
   ],
   "source": [
    "from langdetect import detect\n",
    "from tqdm import tqdm_notebook\n",
    "tqdm_notebook().pandas()"
   ]
  },
  {
   "cell_type": "code",
   "execution_count": 54,
   "metadata": {},
   "outputs": [
    {
     "name": "stdout",
     "output_type": "stream",
     "text": [
      "\n"
     ]
    }
   ],
   "source": [
    "from gensim.models import Phrases"
   ]
  },
  {
   "cell_type": "code",
   "execution_count": 56,
   "metadata": {},
   "outputs": [
    {
     "name": "stdout",
     "output_type": "stream",
     "text": [
      "142570\n"
     ]
    }
   ],
   "source": [
    "bigram_model = Phrases(tokens)\n",
    "print(len(bigram_model[tokens]))\n",
    "#trigram_model = Phrases(bigram_model[tokens], min_count=1)\n",
    "tokens = list(bigram_model[tokens])\n"
   ]
  },
  {
   "cell_type": "code",
   "execution_count": 57,
   "metadata": {},
   "outputs": [],
   "source": [
    "from gensim import corpora"
   ]
  },
  {
   "cell_type": "code",
   "execution_count": 58,
   "metadata": {},
   "outputs": [],
   "source": [
    "dictionary_LDA = corpora.Dictionary(tokens)\n",
    "dictionary_LDA.filter_extremes(no_below=3)\n",
    "corpus = [dictionary_LDA.doc2bow(tok) for tok in tokens]"
   ]
  },
  {
   "cell_type": "code",
   "execution_count": 59,
   "metadata": {},
   "outputs": [],
   "source": [
    "from gensim import models\n",
    "import numpy as np"
   ]
  },
  {
   "cell_type": "code",
   "execution_count": 60,
   "metadata": {},
   "outputs": [
    {
     "name": "stdout",
     "output_type": "stream",
     "text": [
      "Wall time: 12min 34s\n"
     ]
    }
   ],
   "source": [
    "np.random.seed(123456)\n",
    "num_topics = 20 # Same as number of Clusters \n",
    "%time lda_model = models.LdaModel(corpus, num_topics=num_topics, \\\n",
    "                                  id2word=dictionary_LDA, \\\n",
    "                                  passes=4, alpha=[0.01]*num_topics, \\\n",
    "                                  eta=[0.01]*len(dictionary_LDA.keys()))"
   ]
  },
  {
   "cell_type": "code",
   "execution_count": 61,
   "metadata": {},
   "outputs": [
    {
     "name": "stdout",
     "output_type": "stream",
     "text": [
      "0: 0.018*\"company\" + 0.015*\"data\" + 0.014*\"apple\" + 0.013*\"technology\" + 0.012*\"news\" + 0.012*\"new\" + 0.010*\"twitter\" + 0.009*\"post\" + 0.009*\"information\" + 0.009*\"video\" + 0.008*\"use\" + 0.008*\"used\" + 0.008*\"social_media\" + 0.007*\"media\" + 0.006*\"network\" + 0.006*\"site\" + 0.006*\"digital\" + 0.006*\"phone\" + 0.006*\"service\" + 0.005*\"tech\"\n",
      "\n",
      "1: 0.011*\"president\" + 0.011*\"russia\" + 0.010*\"investigation\" + 0.010*\"former\" + 0.009*\"u\" + 0.008*\"white_house\" + 0.008*\"report\" + 0.008*\"administration\" + 0.008*\"intelligence\" + 0.008*\"information\" + 0.008*\"government\" + 0.007*\"committee\" + 0.007*\"public\" + 0.007*\"director\" + 0.006*\"office\" + 0.006*\"told\" + 0.006*\"national_security\" + 0.006*\"post\" + 0.005*\"official\" + 0.005*\"whether\"\n",
      "\n",
      "2: 0.054*\"state\" + 0.023*\"school\" + 0.019*\"university\" + 0.018*\"public\" + 0.016*\"city\" + 0.014*\"new_york\" + 0.013*\"group\" + 0.011*\"education\" + 0.010*\"national\" + 0.010*\"foundation\" + 0.010*\"local\" + 0.009*\"year\" + 0.009*\"college\" + 0.009*\"million\" + 0.008*\"north\" + 0.008*\"governor\" + 0.008*\"march\" + 0.008*\"money\" + 0.008*\"board\" + 0.008*\"county\"\n",
      "\n",
      "3: 0.081*\"percent\" + 0.016*\"year\" + 0.016*\"u\" + 0.011*\"data\" + 0.011*\"economy\" + 0.011*\"since\" + 0.008*\"new\" + 0.007*\"report\" + 0.007*\"according\" + 0.007*\"among\" + 0.007*\"average\" + 0.007*\"economic\" + 0.007*\"fed\" + 0.007*\"rate\" + 0.006*\"higher\" + 0.006*\"may\" + 0.006*\"growth\" + 0.006*\"likely\" + 0.006*\"increase\" + 0.005*\"high\"\n",
      "\n",
      "4: 0.017*\"city\" + 0.008*\"area\" + 0.007*\"home\" + 0.006*\"local\" + 0.006*\"two\" + 0.006*\"building\" + 0.005*\"town\" + 0.005*\"around\" + 0.005*\"many\" + 0.005*\"near\" + 0.005*\"fire\" + 0.005*\"across\" + 0.004*\"park\" + 0.004*\"south\" + 0.004*\"outside\" + 0.004*\"water\" + 0.004*\"new\" + 0.004*\"day\" + 0.004*\"still\" + 0.004*\"three\"\n",
      "\n",
      "5: 0.019*\"health\" + 0.011*\"medical\" + 0.011*\"drug\" + 0.010*\"study\" + 0.008*\"research\" + 0.008*\"food\" + 0.008*\"found\" + 0.007*\"hospital\" + 0.006*\"use\" + 0.006*\"may\" + 0.006*\"disease\" + 0.006*\"doctor\" + 0.006*\"treatment\" + 0.005*\"cancer\" + 0.005*\"risk\" + 0.005*\"many\" + 0.005*\"new\" + 0.005*\"virus\" + 0.004*\"brain\" + 0.004*\"help\"\n",
      "\n",
      "6: 0.014*\"like\" + 0.013*\"know\" + 0.011*\"get\" + 0.010*\"time\" + 0.010*\"going\" + 0.010*\"think\" + 0.009*\"family\" + 0.009*\"want\" + 0.008*\"back\" + 0.008*\"life\" + 0.007*\"really\" + 0.007*\"go\" + 0.007*\"say\" + 0.006*\"got\" + 0.006*\"way\" + 0.006*\"never\" + 0.006*\"day\" + 0.006*\"see\" + 0.006*\"work\" + 0.006*\"us\"\n",
      "\n",
      "7: 0.010*\"white\" + 0.009*\"black\" + 0.009*\"political\" + 0.009*\"many\" + 0.007*\"even\" + 0.005*\"history\" + 0.005*\"country\" + 0.005*\"us\" + 0.005*\"men\" + 0.005*\"politics\" + 0.005*\"like\" + 0.004*\"right\" + 0.004*\"public\" + 0.004*\"power\" + 0.004*\"world\" + 0.004*\"way\" + 0.003*\"movement\" + 0.003*\"often\" + 0.003*\"media\" + 0.003*\"man\"\n",
      "\n",
      "8: 0.022*\"company\" + 0.018*\"million\" + 0.014*\"business\" + 0.012*\"billion\" + 0.011*\"market\" + 0.010*\"money\" + 0.008*\"new\" + 0.007*\"deal\" + 0.007*\"financial\" + 0.007*\"bank\" + 0.007*\"year\" + 0.007*\"pay\" + 0.006*\"could\" + 0.006*\"industry\" + 0.006*\"according\" + 0.005*\"price\" + 0.005*\"buy\" + 0.005*\"percent\" + 0.005*\"two\" + 0.004*\"group\"\n",
      "\n",
      "9: 0.023*\"law\" + 0.020*\"court\" + 0.013*\"case\" + 0.013*\"federal\" + 0.012*\"supreme_court\" + 0.011*\"u\" + 0.010*\"legal\" + 0.009*\"could\" + 0.009*\"state\" + 0.008*\"order\" + 0.008*\"government\" + 0.007*\"decision\" + 0.007*\"immigration\" + 0.006*\"administration\" + 0.006*\"ban\" + 0.006*\"judge\" + 0.006*\"president\" + 0.006*\"justice\" + 0.005*\"abortion\" + 0.005*\"united\"\n",
      "\n",
      "10: 0.024*\"u\" + 0.022*\"military\" + 0.017*\"state\" + 0.014*\"north\" + 0.012*\"government\" + 0.011*\"war\" + 0.011*\"united\" + 0.010*\"attack\" + 0.009*\"security\" + 0.007*\"turkey\" + 0.006*\"group\" + 0.006*\"army\" + 0.006*\"nuclear\" + 0.005*\"country\" + 0.005*\"two\" + 0.005*\"south\" + 0.005*\"president\" + 0.005*\"could\" + 0.005*\"since\" + 0.005*\"us\"\n",
      "\n",
      "11: 0.013*\"like\" + 0.011*\"even\" + 0.009*\"much\" + 0.009*\"could\" + 0.008*\"way\" + 0.008*\"might\" + 0.007*\"think\" + 0.007*\"get\" + 0.007*\"make\" + 0.006*\"many\" + 0.006*\"time\" + 0.006*\"really\" + 0.006*\"work\" + 0.005*\"us\" + 0.005*\"new\" + 0.005*\"see\" + 0.005*\"something\" + 0.005*\"good\" + 0.005*\"know\" + 0.005*\"actually\"\n",
      "\n",
      "12: 0.020*\"game\" + 0.019*\"team\" + 0.015*\"season\" + 0.013*\"first\" + 0.010*\"two\" + 0.008*\"win\" + 0.008*\"time\" + 0.008*\"play\" + 0.007*\"sports\" + 0.007*\"three\" + 0.007*\"year\" + 0.007*\"back\" + 0.006*\"best\" + 0.006*\"final\" + 0.006*\"last\" + 0.006*\"four\" + 0.005*\"second\" + 0.005*\"league\" + 0.005*\"player\" + 0.004*\"get\"\n",
      "\n",
      "13: 0.018*\"water\" + 0.013*\"brazil\" + 0.012*\"flight\" + 0.011*\"plane\" + 0.010*\"space\" + 0.010*\"earth\" + 0.009*\"first\" + 0.008*\"sea\" + 0.007*\"museum\" + 0.007*\"air\" + 0.007*\"oil\" + 0.006*\"land\" + 0.006*\"navy\" + 0.006*\"world\" + 0.006*\"planet\" + 0.006*\"ice\" + 0.006*\"ship\" + 0.006*\"two\" + 0.006*\"aircraft\" + 0.006*\"time\"\n",
      "\n",
      "14: 0.011*\"show\" + 0.007*\"like\" + 0.007*\"new\" + 0.006*\"first\" + 0.006*\"film\" + 0.005*\"movie\" + 0.004*\"story\" + 0.004*\"music\" + 0.004*\"year\" + 0.004*\"made\" + 0.004*\"best\" + 0.004*\"series\" + 0.004*\"time\" + 0.004*\"two\" + 0.004*\"world\" + 0.003*\"book\" + 0.003*\"star\" + 0.003*\"love\" + 0.003*\"character\" + 0.003*\"episode\"\n",
      "\n",
      "15: 0.022*\"u\" + 0.021*\"united\" + 0.020*\"china\" + 0.014*\"president\" + 0.013*\"government\" + 0.012*\"country\" + 0.011*\"world\" + 0.010*\"russia\" + 0.008*\"trade\" + 0.007*\"international\" + 0.007*\"new\" + 0.007*\"deal\" + 0.007*\"could\" + 0.007*\"may\" + 0.006*\"foreign\" + 0.006*\"political\" + 0.006*\"prime_minister\" + 0.006*\"administration\" + 0.006*\"global\" + 0.005*\"us\"\n",
      "\n",
      "16: 0.037*\"police\" + 0.013*\"told\" + 0.010*\"according\" + 0.010*\"man\" + 0.010*\"two\" + 0.009*\"gun\" + 0.008*\"shooting\" + 0.007*\"case\" + 0.007*\"video\" + 0.006*\"officer\" + 0.006*\"prison\" + 0.006*\"shot\" + 0.006*\"crime\" + 0.005*\"post\" + 0.005*\"death\" + 0.005*\"found\" + 0.005*\"family\" + 0.005*\"black\" + 0.005*\"later\" + 0.005*\"law_enforcement\"\n",
      "\n",
      "17: 0.022*\"trump\" + 0.015*\"republican\" + 0.015*\"party\" + 0.014*\"campaign\" + 0.014*\"vote\" + 0.014*\"sanders\" + 0.012*\"election\" + 0.009*\"candidate\" + 0.008*\"democratic\" + 0.008*\"senate\" + 0.008*\"could\" + 0.008*\"political\" + 0.007*\"win\" + 0.007*\"support\" + 0.007*\"state\" + 0.006*\"president\" + 0.005*\"conservative\" + 0.005*\"race\" + 0.005*\"nominee\" + 0.005*\"even\"\n",
      "\n",
      "18: 0.202*\"trump\" + 0.029*\"president\" + 0.014*\"campaign\" + 0.011*\"white_house\" + 0.008*\"post\" + 0.007*\"media\" + 0.006*\"news\" + 0.006*\"going\" + 0.005*\"new_york\" + 0.005*\"first\" + 0.005*\"election\" + 0.005*\"told\" + 0.005*\"saying\" + 0.004*\"pence\" + 0.004*\"think\" + 0.004*\"times\" + 0.004*\"speech\" + 0.004*\"say\" + 0.004*\"made\" + 0.004*\"fox_news\"\n",
      "\n",
      "19: 0.022*\"bill\" + 0.018*\"plan\" + 0.016*\"congress\" + 0.014*\"house\" + 0.014*\"tax\" + 0.013*\"administration\" + 0.011*\"president\" + 0.010*\"government\" + 0.010*\"policy\" + 0.010*\"budget\" + 0.010*\"federal\" + 0.010*\"act\" + 0.009*\"health_care\" + 0.008*\"trump\" + 0.008*\"new\" + 0.008*\"climate_change\" + 0.007*\"could\" + 0.007*\"spending\" + 0.007*\"coverage\" + 0.007*\"legislation\"\n",
      "\n"
     ]
    }
   ],
   "source": [
    "for i,topic in lda_model.show_topics(formatted=True, num_topics=num_topics, num_words=20):\n",
    "    print(str(i)+\": \"+ topic)\n",
    "    print()"
   ]
  },
  {
   "cell_type": "code",
   "execution_count": 62,
   "metadata": {},
   "outputs": [
    {
     "name": "stdout",
     "output_type": "stream",
     "text": [
      "congressional new fear comes health care lawsuit administration might win incoming trump administration could choose longer defend executive branch suit administration authority spend health insurance\n"
     ]
    }
   ],
   "source": [
    "print(lda_frame.content.loc[0][:200])"
   ]
  },
  {
   "cell_type": "code",
   "execution_count": 63,
   "metadata": {},
   "outputs": [
    {
     "data": {
      "text/plain": [
       "[(1, 0.07394488),\n",
       " (8, 0.015906317),\n",
       " (9, 0.35626465),\n",
       " (17, 0.16715354),\n",
       " (18, 0.035235696),\n",
       " (19, 0.3510739)]"
      ]
     },
     "execution_count": 63,
     "metadata": {},
     "output_type": "execute_result"
    }
   ],
   "source": [
    "lda_model[corpus[0]]\n"
   ]
  },
  {
   "cell_type": "code",
   "execution_count": 64,
   "metadata": {},
   "outputs": [],
   "source": [
    "topics = [lda_model[corpus[i]] for i in range(len(lda_frame))]"
   ]
  },
  {
   "cell_type": "code",
   "execution_count": 65,
   "metadata": {},
   "outputs": [
    {
     "data": {
      "text/html": [
       "<div>\n",
       "<style scoped>\n",
       "    .dataframe tbody tr th:only-of-type {\n",
       "        vertical-align: middle;\n",
       "    }\n",
       "\n",
       "    .dataframe tbody tr th {\n",
       "        vertical-align: top;\n",
       "    }\n",
       "\n",
       "    .dataframe thead th {\n",
       "        text-align: right;\n",
       "    }\n",
       "</style>\n",
       "<table border=\"1\" class=\"dataframe\">\n",
       "  <thead>\n",
       "    <tr style=\"text-align: right;\">\n",
       "      <th></th>\n",
       "      <th>topic #</th>\n",
       "      <th>weight</th>\n",
       "      <th>words in topic</th>\n",
       "    </tr>\n",
       "  </thead>\n",
       "  <tbody>\n",
       "    <tr>\n",
       "      <th>0</th>\n",
       "      <td>2</td>\n",
       "      <td>0.08</td>\n",
       "      <td>0.054*\"state\" + 0.023*\"school\" + 0.019*\"univer...</td>\n",
       "    </tr>\n",
       "    <tr>\n",
       "      <th>1</th>\n",
       "      <td>3</td>\n",
       "      <td>0.03</td>\n",
       "      <td>0.081*\"percent\" + 0.016*\"year\" + 0.016*\"u\" + 0...</td>\n",
       "    </tr>\n",
       "    <tr>\n",
       "      <th>2</th>\n",
       "      <td>4</td>\n",
       "      <td>0.01</td>\n",
       "      <td>0.017*\"city\" + 0.008*\"area\" + 0.007*\"home\" + 0...</td>\n",
       "    </tr>\n",
       "    <tr>\n",
       "      <th>3</th>\n",
       "      <td>6</td>\n",
       "      <td>0.04</td>\n",
       "      <td>0.014*\"like\" + 0.013*\"know\" + 0.011*\"get\" + 0....</td>\n",
       "    </tr>\n",
       "    <tr>\n",
       "      <th>4</th>\n",
       "      <td>7</td>\n",
       "      <td>0.04</td>\n",
       "      <td>0.010*\"white\" + 0.009*\"black\" + 0.009*\"politic...</td>\n",
       "    </tr>\n",
       "    <tr>\n",
       "      <th>5</th>\n",
       "      <td>8</td>\n",
       "      <td>0.05</td>\n",
       "      <td>0.022*\"company\" + 0.018*\"million\" + 0.014*\"bus...</td>\n",
       "    </tr>\n",
       "    <tr>\n",
       "      <th>6</th>\n",
       "      <td>11</td>\n",
       "      <td>0.11</td>\n",
       "      <td>0.013*\"like\" + 0.011*\"even\" + 0.009*\"much\" + 0...</td>\n",
       "    </tr>\n",
       "    <tr>\n",
       "      <th>7</th>\n",
       "      <td>12</td>\n",
       "      <td>0.42</td>\n",
       "      <td>0.020*\"game\" + 0.019*\"team\" + 0.015*\"season\" +...</td>\n",
       "    </tr>\n",
       "    <tr>\n",
       "      <th>8</th>\n",
       "      <td>14</td>\n",
       "      <td>0.03</td>\n",
       "      <td>0.011*\"show\" + 0.007*\"like\" + 0.007*\"new\" + 0....</td>\n",
       "    </tr>\n",
       "    <tr>\n",
       "      <th>9</th>\n",
       "      <td>15</td>\n",
       "      <td>0.14</td>\n",
       "      <td>0.022*\"u\" + 0.021*\"united\" + 0.020*\"china\" + 0...</td>\n",
       "    </tr>\n",
       "    <tr>\n",
       "      <th>10</th>\n",
       "      <td>19</td>\n",
       "      <td>0.03</td>\n",
       "      <td>0.022*\"bill\" + 0.018*\"plan\" + 0.016*\"congress\"...</td>\n",
       "    </tr>\n",
       "  </tbody>\n",
       "</table>\n",
       "</div>"
      ],
      "text/plain": [
       "    topic #  weight                                     words in topic\n",
       "0         2    0.08  0.054*\"state\" + 0.023*\"school\" + 0.019*\"univer...\n",
       "1         3    0.03  0.081*\"percent\" + 0.016*\"year\" + 0.016*\"u\" + 0...\n",
       "2         4    0.01  0.017*\"city\" + 0.008*\"area\" + 0.007*\"home\" + 0...\n",
       "3         6    0.04  0.014*\"like\" + 0.013*\"know\" + 0.011*\"get\" + 0....\n",
       "4         7    0.04  0.010*\"white\" + 0.009*\"black\" + 0.009*\"politic...\n",
       "5         8    0.05  0.022*\"company\" + 0.018*\"million\" + 0.014*\"bus...\n",
       "6        11    0.11  0.013*\"like\" + 0.011*\"even\" + 0.009*\"much\" + 0...\n",
       "7        12    0.42  0.020*\"game\" + 0.019*\"team\" + 0.015*\"season\" +...\n",
       "8        14    0.03  0.011*\"show\" + 0.007*\"like\" + 0.007*\"new\" + 0....\n",
       "9        15    0.14  0.022*\"u\" + 0.021*\"united\" + 0.020*\"china\" + 0...\n",
       "10       19    0.03  0.022*\"bill\" + 0.018*\"plan\" + 0.016*\"congress\"..."
      ]
     },
     "execution_count": 65,
     "metadata": {},
     "output_type": "execute_result"
    }
   ],
   "source": [
    "document = '''china soccer vast football school south china seem barely enough backdrop school seem young swarm onto nearly every day kicking passing hope soccer glory riches soccer career grow\n",
    "wang kai gangly studied boarding school three said morning session supervision coach want said next become national project china country fan president xi bent transforming country great soccer \n",
    "power china whose ranked poor middling recent international competition effort already unleashed surge spending support game around world last two main league plucked foreign south worth much million \n",
    "year highest pay soccer player world club real million year declined agent said last week shaking landscape pro soccer conte manager fabled team spending spree last month danger world drive match china \n",
    "economic ascent success soccer field become emblematic xi ambition transform china great confident power biggest hope soccer become among world best last two government kind concentrated effort soccer \n",
    "previously devoted winning individual sports like diving gymnastics clean reorganize professional soccer build new generation soccer soccer aim establish flow top eventually capable winning men world cup\n",
    "team former glory effort spend lavishly well paying millions foreign team spent millions tap coaching marketing current spending massive said professor sports enterprise university spending big also soccer\n",
    "xi national also could falter muddle rushed distorted enforcement especially local level resistance worried taking precious time away well fear foreign money attention fostering talent fixing soccer turns bit \n",
    "like fixing economy desire quick flashy success risk people daily main newspaper communist party last month bubble reckless spending professional soccer could burst badly damage sport many feverish going \n",
    "young newspaper said one biggest said resident shanghai wild east football sport china great level like people thing china passionate soccer would competitive national instead lackluster national men team\n",
    "recently 83rd ahead remote outcrop unlikely win spot world cup team pride soccer past world cup slipped 13th latest national team joke said come stadium watch favorite team clobber listless opponent province \n",
    "think need get right question spending money attitude domestic professional game corruption brazen even china since grew national scandal worst cheating still said blatantly xi soccer passion since childhood\n",
    "abroad included soccer famously enthusiastic seemingly rusty go kicking ball old school learned kick fan game according former teacher look healthy xi told young soccer school laid basis sports young private\n",
    "piled professional soccer xi backing game apparently eager curry favor government main pro trading season last year super league spent million away promising foreign player spending premier league nearly million \n",
    "according player transfer data company likely go even higher xi focus long game next generation plan strong emphasis soccer leap number soccer across country grow end plan million million regularly play soccer every\n",
    "school paying quite bit attention soccer said athletic director r xi old school school unthinkable yet deep cultural resistance even discourage time sports said much homework face stiff competition academic china individual\n",
    "sports demand intense discipline early age country done well fostering group sports like teamwork improvisation count much personal virtuosity privately run school world biggest soccer boarding school formula intense training\n",
    "combined solid education could show way young soccer built multiply said principal school guess seven eight half national squad come school drawn pay year send oversee training spend day also play promising get get school said \n",
    "even come game later south often lack solid grounding teamwork tactics said coach getting better year year said hopefully approach expensive widely copied facing shortage space like soccer gymnastics stand tossing ball around may\n",
    "impress visiting scant preparation free flow game said widely soccer commentator soccer rushing instant success said interview previous build game 1980s 1990s problem everyone thinking still deeply set traditional everyone soccer\n",
    "getting competition training instead encouraging focus fun broad participation approach break monotony classroom eventually bring future approach trying way recent afternoon smog often elementary school rushed onto shouting squealing\n",
    "delight morning soccer smog said principal lin midday notified back went crazy relief'''\n",
    "tokens = word_tokenize(document)\n",
    "topics = lda_model.show_topics(formatted=True, num_topics=num_topics, num_words=20)\n",
    "pd.DataFrame([(el[0], round(el[1],2), topics[el[0]][1]) for el in lda_model[dictionary_LDA.doc2bow(tokens)]], columns=['topic #', 'weight', 'words in topic'])"
   ]
  },
  {
   "cell_type": "code",
   "execution_count": 66,
   "metadata": {},
   "outputs": [
    {
     "ename": "ModuleNotFoundError",
     "evalue": "No module named 'pyLDAvis'",
     "output_type": "error",
     "traceback": [
      "\u001b[1;31m---------------------------------------------------------------------------\u001b[0m",
      "\u001b[1;31mModuleNotFoundError\u001b[0m                       Traceback (most recent call last)",
      "\u001b[1;32m<ipython-input-66-2da3fa09ee40>\u001b[0m in \u001b[0;36m<module>\u001b[1;34m\u001b[0m\n\u001b[0;32m      1\u001b[0m \u001b[0mget_ipython\u001b[0m\u001b[1;33m(\u001b[0m\u001b[1;33m)\u001b[0m\u001b[1;33m.\u001b[0m\u001b[0mrun_line_magic\u001b[0m\u001b[1;33m(\u001b[0m\u001b[1;34m'matplotlib'\u001b[0m\u001b[1;33m,\u001b[0m \u001b[1;34m'inline'\u001b[0m\u001b[1;33m)\u001b[0m\u001b[1;33m\u001b[0m\u001b[1;33m\u001b[0m\u001b[0m\n\u001b[1;32m----> 2\u001b[1;33m \u001b[1;32mimport\u001b[0m \u001b[0mpyLDAvis\u001b[0m\u001b[1;33m\u001b[0m\u001b[1;33m\u001b[0m\u001b[0m\n\u001b[0m\u001b[0;32m      3\u001b[0m \u001b[1;32mimport\u001b[0m \u001b[0mpyLDAvis\u001b[0m\u001b[1;33m.\u001b[0m\u001b[0mgensim\u001b[0m\u001b[1;33m\u001b[0m\u001b[1;33m\u001b[0m\u001b[0m\n\u001b[0;32m      4\u001b[0m \u001b[0mvis\u001b[0m \u001b[1;33m=\u001b[0m \u001b[0mpyLDAvis\u001b[0m\u001b[1;33m.\u001b[0m\u001b[0mgensim\u001b[0m\u001b[1;33m.\u001b[0m\u001b[0mprepare\u001b[0m\u001b[1;33m(\u001b[0m\u001b[0mtopic_model\u001b[0m\u001b[1;33m=\u001b[0m\u001b[0mlda_model\u001b[0m\u001b[1;33m,\u001b[0m \u001b[0mcorpus\u001b[0m\u001b[1;33m=\u001b[0m\u001b[0mcorpus\u001b[0m\u001b[1;33m,\u001b[0m \u001b[0mdictionary\u001b[0m\u001b[1;33m=\u001b[0m\u001b[0mdictionary_LDA\u001b[0m\u001b[1;33m)\u001b[0m\u001b[1;33m\u001b[0m\u001b[1;33m\u001b[0m\u001b[0m\n\u001b[0;32m      5\u001b[0m \u001b[0mpyLDAvis\u001b[0m\u001b[1;33m.\u001b[0m\u001b[0menable_notebook\u001b[0m\u001b[1;33m(\u001b[0m\u001b[1;33m)\u001b[0m\u001b[1;33m\u001b[0m\u001b[1;33m\u001b[0m\u001b[0m\n",
      "\u001b[1;31mModuleNotFoundError\u001b[0m: No module named 'pyLDAvis'"
     ]
    }
   ],
   "source": [
    "%matplotlib inline\n",
    "import pyLDAvis\n",
    "import pyLDAvis.gensim\n",
    "vis = pyLDAvis.gensim.prepare(topic_model=lda_model, corpus=corpus, dictionary=dictionary_LDA)\n",
    "pyLDAvis.enable_notebook()\n",
    "pyLDAvis.display(vis)"
   ]
  },
  {
   "cell_type": "code",
   "execution_count": null,
   "metadata": {},
   "outputs": [],
   "source": []
  }
 ],
 "metadata": {
  "kernelspec": {
   "display_name": "Python 3",
   "language": "python",
   "name": "python3"
  },
  "language_info": {
   "codemirror_mode": {
    "name": "ipython",
    "version": 3
   },
   "file_extension": ".py",
   "mimetype": "text/x-python",
   "name": "python",
   "nbconvert_exporter": "python",
   "pygments_lexer": "ipython3",
   "version": "3.7.7"
  }
 },
 "nbformat": 4,
 "nbformat_minor": 2
}
