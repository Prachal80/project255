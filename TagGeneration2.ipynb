{
 "cells": [
  {
   "cell_type": "code",
   "execution_count": 2,
   "metadata": {},
   "outputs": [],
   "source": [
    "# Import statements\n",
    "import numpy as np\n",
    "import pandas as pd\n",
    "import os\n",
    "import sys"
   ]
  },
  {
   "cell_type": "code",
   "execution_count": 3,
   "metadata": {},
   "outputs": [
    {
     "name": "stdout",
     "output_type": "stream",
     "text": [
      "Index(['id', 'title', 'publication', 'author', 'date', 'year', 'month', 'url',\n",
      "       'content'],\n",
      "      dtype='object')\n"
     ]
    }
   ],
   "source": [
    "# Load the data into pandas frame\n",
    "path = './data/articles1.csv'\n",
    "if os.path.exists(path):\n",
    "    chunk_list = []\n",
    "    reader_obj = pd.read_csv(path,chunksize=10000) \n",
    "    try:\n",
    "        for chunk in reader_obj:\n",
    "            chunk_list.append(chunk)\n",
    "        data_frame = pd.concat(chunk_list).drop(['Unnamed: 0'],axis=1)\n",
    "        print(data_frame.columns)\n",
    "    except:\n",
    "        # handle the file not found error\n",
    "        print(sys.exc_info())"
   ]
  },
  {
   "cell_type": "markdown",
   "metadata": {},
   "source": [
    "## Display a simple text"
   ]
  },
  {
   "cell_type": "code",
   "execution_count": 4,
   "metadata": {},
   "outputs": [
    {
     "name": "stdout",
     "output_type": "stream",
     "text": [
      "With Donald J. Trump about to take control of the White House, it would seem a dark time for the renewable energy industry. After all, Mr. Trump has mocked the science of global warming as a Chinese hoax, threatened to kill a global deal on climate change and promised to restore the coal industry to its former glory. So consider what happened in the middle of December, after investors had had a month to absorb the implications of Mr. Trump’s victory. The federal government opened bidding on a tract of the ocean floor off New York State as a potential site for a huge wind farm. Up, up and away soared the offers  —   interest from the bidders was so fevered that the auction went through 33 rounds and spilled over to a second day. In the end, the winning bidder offered the federal Treasury $42 million, more than twice what the government got in August for oil leases  —   oil leases  —   in the Gulf of Mexico. Who won the bid? None other than Statoil, the Norwegian oil company, which is in the midst of a major campaign to turn itself into a big player in renewable energy. We do not know for sure that the New York wind farm will get built, but we do know this: The energy transition is real, and Mr. Trump is not going to stop it. On a global scale, more than half the investment in new electricity generation is going into renewable energy. That is more than $300 billion a year, a sign of how powerful the momentum has become. Wind power is booming in the United States, with the industry adding manufacturing jobs in the reddest states. When Mr. Trump’s appointees examine the facts, they will learn that   technician is projected to be the   occupation in America over the next decade. The election of Mr. Trump left climate activists and environmental groups in despair. They had pinned their hopes on a Hillary Clinton victory and a continuation of President Obama’s strong push to tackle global warming. Now, of course, everything is in flux. In the worst case, with a sufficiently pliant Congress, Mr. Trump could roll back a decade of progress on climate change. Barring some miraculous conversion on Mr. Trump’s part, his election cannot be interpreted as anything but bad news for the climate agenda. Yet despair might be an overreaction. For starters, when Mr. Trump gets to the White House, he will find that the federal government actually has relatively little control over American energy policy, and particularly over electricity generation. The coal industry has been ravaged in part by cheap natural gas, which is abundant because of technological changes in the way it is produced, and there is no lever in the Oval Office that Mr. Trump can pull to reverse that. The intrinsically weak federal role was a source of frustration for Mr. Obama and his aides, but now it will work to the benefit of environmental advocates. They have already persuaded more than half the states to adopt mandates on renewable energy. Efforts to roll those back have largely failed, with the latest development coming only last week, when Gov. John Kasich of Ohio, a Republican, vetoed a rollback bill. The federal government does offer important subsidies for renewable energy, and they will surely become a target in the new Congress. But those subsidies are already scheduled to fall drastically over five years, in a deal cut a year ago that gave the oil industry some favors and that passed Congress with many Republican votes. If Mr. Trump pushes for an early end to the subsidies, he will find that renewable energy has friends in the Republican Party. Topping that list is Charles E. Grassley, the senior senator from Iowa. That state  —     in presidential politics, let us remember  —   will soon be getting 40 percent of its electricity from wind power. “Senator Grassley has been and continues to be an extraordinary leader and champion for the wind industry,” said Tom Kiernan, the head of the American Wind Energy Association, a trade group. When I spoke with him last week, Mr. Kiernan did not sound like a man gnashing his teeth about the impending Trump era. By his group’s calculations, $80 billion of wind industry investment is in the pipeline for the United States over the next few years. “We are creating jobs throughout America,   jobs, and we think   Trump will want that to continue,” he said. If Mr. Trump really wanted to roll back the clock, he could try to get Congress to override all the state mandates, a gross violation of the supposed conservative commitment to federalism. But it would be a titanic fight, some Republican senators would defect on principle, and Mr. Trump would almost certainly lose. So if the damage Mr. Trump can do domestically is limited by circumstance, what about the international effort against global warming? That is the prospect that has David G. Victor most worried. Dr. Victor, a professor at the University of California at San Diego, is one of the closest observers of global climate politics. While the nations of the world agreed a year ago to a landmark deal to tackle global warming, that consensus is fragile, he pointed out. The Paris Agreement is really an outline more promise than reality. Mr. Trump has vowed to withdraw. Right now, other countries are saying they will go forward even if he does so, but it is not hard to imagine the thing unraveling. As part of the negotiations, the Obama administration promised billions of dollars from American taxpayers to help poor countries adjust to the devastation of global warming. “That’s a big part of the glue that held the Paris deal together,” Dr. Victor pointed out. Mr. Trump is considered likely to abandon that pledge. Perhaps the biggest threat to the climate agenda posed by the incoming administration is not anything that Mr. Trump might do, but rather what he will not do. While the energy transition is real, it is still in its earliest stages. Iowa may soon get 40 percent of its power from wind, but for the United States as a whole, the figure is closer to 5 percent. The transition is simply not happening fast enough. The pledges countries made in Paris, even if kept, are not ambitious enough. To meet the climate goals embodied in the Paris Agreement, the world needed an American president who would have pushed hard to accelerate the energy transition. You can debate whether Mrs. Clinton would have been that president, but it is certainly clear that Mr. Trump will not be. So as Washington goes into reverse gear on climate policy, seas will keep rising and heat waves will get worse. Later this month, global monitoring agencies are expected to report that 2016 was the hottest year in the historical record, beating out 2015, which beat out 2014. If nothing else, the next four years may be a fascinating test of just how far politics can become divorced from physical reality.\n"
     ]
    }
   ],
   "source": [
    "# Displaying a sample content\n",
    "sample_content = data_frame['content'][10]\n",
    "print(sample_content)"
   ]
  },
  {
   "cell_type": "markdown",
   "metadata": {},
   "source": [
    "# Tokenization\n",
    "### Tokenizations is the process of separating each and every small letter of the sentence.\n",
    "\n",
    "# Removal of Stop Words: \n",
    "### In this process we are also eliminating the stop words in order to extract only words \n"
   ]
  },
  {
   "cell_type": "code",
   "execution_count": 5,
   "metadata": {},
   "outputs": [
    {
     "name": "stdout",
     "output_type": "stream",
     "text": [
      "['with', 'donald', 'j', 'trump', 'about', 'to', 'take', 'control', 'of', 'the', 'white', 'house', 'it', 'would', 'seem', 'a', 'dark', 'time', 'for', 'the', 'renewable', 'energy', 'industry', 'after', 'all', 'mr', 'trump', 'has', 'mocked', 'the', 'science', 'of', 'global', 'warming', 'as', 'a', 'chinese', 'hoax', 'threatened', 'to', 'kill', 'a', 'global', 'deal', 'on', 'climate', 'change', 'and', 'promised', 'to', 'restore', 'the', 'coal', 'industry', 'to', 'its', 'former', 'glory', 'so', 'consider', 'what', 'happened', 'in', 'the', 'middle', 'of', 'december', 'after', 'investors', 'had', 'had', 'a', 'month', 'to', 'absorb', 'the', 'implications', 'of', 'mr', 'trump', 's', 'victory', 'the', 'federal', 'government', 'opened', 'bidding', 'on', 'a', 'tract', 'of', 'the', 'ocean', 'floor', 'off', 'new', 'york', 'state', 'as', 'a', 'potential', 'site', 'for', 'a', 'huge', 'wind', 'farm', 'up', 'up', 'and', 'away', 'soared', 'the', 'offers', 'interest', 'from', 'the', 'bidders', 'was', 'so', 'fevered', 'that', 'the', 'auction', 'went', 'through', '33', 'rounds', 'and', 'spilled', 'over', 'to', 'a', 'second', 'day', 'in', 'the', 'end', 'the', 'winning', 'bidder', 'offered', 'the', 'federal', 'treasury', '42', 'million', 'more', 'than', 'twice', 'what', 'the', 'government', 'got', 'in', 'august', 'for', 'oil', 'leases', 'oil', 'leases', 'in', 'the', 'gulf', 'of', 'mexico', 'who', 'won', 'the', 'bid', 'none', 'other', 'than', 'statoil', 'the', 'norwegian', 'oil', 'company', 'which', 'is', 'in', 'the', 'midst', 'of', 'a', 'major', 'campaign', 'to', 'turn', 'itself', 'into', 'a', 'big', 'player', 'in', 'renewable', 'energy', 'we', 'do', 'not', 'know', 'for', 'sure', 'that', 'the', 'new', 'york', 'wind', 'farm', 'will', 'get', 'built', 'but', 'we', 'do', 'know', 'this', 'the', 'energy', 'transition', 'is', 'real', 'and', 'mr', 'trump', 'is', 'not', 'going', 'to', 'stop', 'it', 'on', 'a', 'global', 'scale', 'more', 'than', 'half', 'the', 'investment', 'in', 'new', 'electricity', 'generation', 'is', 'going', 'into', 'renewable', 'energy', 'that', 'is', 'more', 'than', '300', 'billion', 'a', 'year', 'a', 'sign', 'of', 'how', 'powerful', 'the', 'momentum', 'has', 'become', 'wind', 'power', 'is', 'booming', 'in', 'the', 'united', 'states', 'with', 'the', 'industry', 'adding', 'manufacturing', 'jobs', 'in', 'the', 'reddest', 'states', 'when', 'mr', 'trump', 's', 'appointees', 'examine', 'the', 'facts', 'they', 'will', 'learn', 'that', 'technician', 'is', 'projected', 'to', 'be', 'the', 'occupation', 'in', 'america', 'over', 'the', 'next', 'decade', 'the', 'election', 'of', 'mr', 'trump', 'left', 'climate', 'activists', 'and', 'environmental', 'groups', 'in', 'despair', 'they', 'had', 'pinned', 'their', 'hopes', 'on', 'a', 'hillary', 'clinton', 'victory', 'and', 'a', 'continuation', 'of', 'president', 'obama', 's', 'strong', 'push', 'to', 'tackle', 'global', 'warming', 'now', 'of', 'course', 'everything', 'is', 'in', 'flux', 'in', 'the', 'worst', 'case', 'with', 'a', 'sufficiently', 'pliant', 'congress', 'mr', 'trump', 'could', 'roll', 'back', 'a', 'decade', 'of', 'progress', 'on', 'climate', 'change', 'barring', 'some', 'miraculous', 'conversion', 'on', 'mr', 'trump', 's', 'part', 'his', 'election', 'cannot', 'be', 'interpreted', 'as', 'anything', 'but', 'bad', 'news', 'for', 'the', 'climate', 'agenda', 'yet', 'despair', 'might', 'be', 'an', 'overreaction', 'for', 'starters', 'when', 'mr', 'trump', 'gets', 'to', 'the', 'white', 'house', 'he', 'will', 'find', 'that', 'the', 'federal', 'government', 'actually', 'has', 'relatively', 'little', 'control', 'over', 'american', 'energy', 'policy', 'and', 'particularly', 'over', 'electricity', 'generation', 'the', 'coal', 'industry', 'has', 'been', 'ravaged', 'in', 'part', 'by', 'cheap', 'natural', 'gas', 'which', 'is', 'abundant', 'because', 'of', 'technological', 'changes', 'in', 'the', 'way', 'it', 'is', 'produced', 'and', 'there', 'is', 'no', 'lever', 'in', 'the', 'oval', 'office', 'that', 'mr', 'trump', 'can', 'pull', 'to', 'reverse', 'that', 'the', 'intrinsically', 'weak', 'federal', 'role', 'was', 'a', 'source', 'of', 'frustration', 'for', 'mr', 'obama', 'and', 'his', 'aides', 'but', 'now', 'it', 'will', 'work', 'to', 'the', 'benefit', 'of', 'environmental', 'advocates', 'they', 'have', 'already', 'persuaded', 'more', 'than', 'half', 'the', 'states', 'to', 'adopt', 'mandates', 'on', 'renewable', 'energy', 'efforts', 'to', 'roll', 'those', 'back', 'have', 'largely', 'failed', 'with', 'the', 'latest', 'development', 'coming', 'only', 'last', 'week', 'when', 'gov', 'john', 'kasich', 'of', 'ohio', 'a', 'republican', 'vetoed', 'a', 'rollback', 'bill', 'the', 'federal', 'government', 'does', 'offer', 'important', 'subsidies', 'for', 'renewable', 'energy', 'and', 'they', 'will', 'surely', 'become', 'a', 'target', 'in', 'the', 'new', 'congress', 'but', 'those', 'subsidies', 'are', 'already', 'scheduled', 'to', 'fall', 'drastically', 'over', 'five', 'years', 'in', 'a', 'deal', 'cut', 'a', 'year', 'ago', 'that', 'gave', 'the', 'oil', 'industry', 'some', 'favors', 'and', 'that', 'passed', 'congress', 'with', 'many', 'republican', 'votes', 'if', 'mr', 'trump', 'pushes', 'for', 'an', 'early', 'end', 'to', 'the', 'subsidies', 'he', 'will', 'find', 'that', 'renewable', 'energy', 'has', 'friends', 'in', 'the', 'republican', 'party', 'topping', 'that', 'list', 'is', 'charles', 'e', 'grassley', 'the', 'senior', 'senator', 'from', 'iowa', 'that', 'state', 'in', 'presidential', 'politics', 'let', 'us', 'remember', 'will', 'soon', 'be', 'getting', '40', 'percent', 'of', 'its', 'electricity', 'from', 'wind', 'power', 'senator', 'grassley', 'has', 'been', 'and', 'continues', 'to', 'be', 'an', 'extraordinary', 'leader', 'and', 'champion', 'for', 'the', 'wind', 'industry', 'said', 'tom', 'kiernan', 'the', 'head', 'of', 'the', 'american', 'wind', 'energy', 'association', 'a', 'trade', 'group', 'when', 'i', 'spoke', 'with', 'him', 'last', 'week', 'mr', 'kiernan', 'did', 'not', 'sound', 'like', 'a', 'man', 'gnashing', 'his', 'teeth', 'about', 'the', 'impending', 'trump', 'era', 'by', 'his', 'group', 's', 'calculations', '80', 'billion', 'of', 'wind', 'industry', 'investment', 'is', 'in', 'the', 'pipeline', 'for', 'the', 'united', 'states', 'over', 'the', 'next', 'few', 'years', 'we', 'are', 'creating', 'jobs', 'throughout', 'america', 'jobs', 'and', 'we', 'think', 'trump', 'will', 'want', 'that', 'to', 'continue', 'he', 'said', 'if', 'mr', 'trump', 'really', 'wanted', 'to', 'roll', 'back', 'the', 'clock', 'he', 'could', 'try', 'to', 'get', 'congress', 'to', 'override', 'all', 'the', 'state', 'mandates', 'a', 'gross', 'violation', 'of', 'the', 'supposed', 'conservative', 'commitment', 'to', 'federalism', 'but', 'it', 'would', 'be', 'a', 'titanic', 'fight', 'some', 'republican', 'senators', 'would', 'defect', 'on', 'principle', 'and', 'mr', 'trump', 'would', 'almost', 'certainly', 'lose', 'so', 'if', 'the', 'damage', 'mr', 'trump', 'can', 'do', 'domestically', 'is', 'limited', 'by', 'circumstance', 'what', 'about', 'the', 'international', 'effort', 'against', 'global', 'warming', 'that', 'is', 'the', 'prospect', 'that', 'has', 'david', 'g', 'victor', 'most', 'worried', 'dr', 'victor', 'a', 'professor', 'at', 'the', 'university', 'of', 'california', 'at', 'san', 'diego', 'is', 'one', 'of', 'the', 'closest', 'observers', 'of', 'global', 'climate', 'politics', 'while', 'the', 'nations', 'of', 'the', 'world', 'agreed', 'a', 'year', 'ago', 'to', 'a', 'landmark', 'deal', 'to', 'tackle', 'global', 'warming', 'that', 'consensus', 'is', 'fragile', 'he', 'pointed', 'out', 'the', 'paris', 'agreement', 'is', 'really', 'an', 'outline', 'more', 'promise', 'than', 'reality', 'mr', 'trump', 'has', 'vowed', 'to', 'withdraw', 'right', 'now', 'other', 'countries', 'are', 'saying', 'they', 'will', 'go', 'forward', 'even', 'if', 'he', 'does', 'so', 'but', 'it', 'is', 'not', 'hard', 'to', 'imagine', 'the', 'thing', 'unraveling', 'as', 'part', 'of', 'the', 'negotiations', 'the', 'obama', 'administration', 'promised', 'billions', 'of', 'dollars', 'from', 'american', 'taxpayers', 'to', 'help', 'poor', 'countries', 'adjust', 'to', 'the', 'devastation', 'of', 'global', 'warming', 'that', 's', 'a', 'big', 'part', 'of', 'the', 'glue', 'that', 'held', 'the', 'paris', 'deal', 'together', 'dr', 'victor', 'pointed', 'out', 'mr', 'trump', 'is', 'considered', 'likely', 'to', 'abandon', 'that', 'pledge', 'perhaps', 'the', 'biggest', 'threat', 'to', 'the', 'climate', 'agenda', 'posed', 'by', 'the', 'incoming', 'administration', 'is', 'not', 'anything', 'that', 'mr', 'trump', 'might', 'do', 'but', 'rather', 'what', 'he', 'will', 'not', 'do', 'while', 'the', 'energy', 'transition', 'is', 'real', 'it', 'is', 'still', 'in', 'its', 'earliest', 'stages', 'iowa', 'may', 'soon', 'get', '40', 'percent', 'of', 'its', 'power', 'from', 'wind', 'but', 'for', 'the', 'united', 'states', 'as', 'a', 'whole', 'the', 'figure', 'is', 'closer', 'to', '5', 'percent', 'the', 'transition', 'is', 'simply', 'not', 'happening', 'fast', 'enough', 'the', 'pledges', 'countries', 'made', 'in', 'paris', 'even', 'if', 'kept', 'are', 'not', 'ambitious', 'enough', 'to', 'meet', 'the', 'climate', 'goals', 'embodied', 'in', 'the', 'paris', 'agreement', 'the', 'world', 'needed', 'an', 'american', 'president', 'who', 'would', 'have', 'pushed', 'hard', 'to', 'accelerate', 'the', 'energy', 'transition', 'you', 'can', 'debate', 'whether', 'mrs', 'clinton', 'would', 'have', 'been', 'that', 'president', 'but', 'it', 'is', 'certainly', 'clear', 'that', 'mr', 'trump', 'will', 'not', 'be', 'so', 'as', 'washington', 'goes', 'into', 'reverse', 'gear', 'on', 'climate', 'policy', 'seas', 'will', 'keep', 'rising', 'and', 'heat', 'waves', 'will', 'get', 'worse', 'later', 'this', 'month', 'global', 'monitoring', 'agencies', 'are', 'expected', 'to', 'report', 'that', '2016', 'was', 'the', 'hottest', 'year', 'in', 'the', 'historical', 'record', 'beating', 'out', '2015', 'which', 'beat', 'out', '2014', 'if', 'nothing', 'else', 'the', 'next', 'four', 'years', 'may', 'be', 'a', 'fascinating', 'test', 'of', 'just', 'how', 'far', 'politics', 'can', 'become', 'divorced', 'from', 'physical', 'reality']\n",
      "1184\n"
     ]
    }
   ],
   "source": [
    "from nltk.tokenize import RegexpTokenizer\n",
    "from nltk.corpus import stopwords\n",
    "def tokenization(content):\n",
    "    tokenizer = RegexpTokenizer(r'\\w+')\n",
    "    token_list = tokenizer.tokenize(content.lower())\n",
    "    return token_list\n",
    "token_list = tokenization(sample_content)\n",
    "print(token_list)\n",
    "print(len(token_list))"
   ]
  },
  {
   "cell_type": "code",
   "execution_count": 6,
   "metadata": {},
   "outputs": [
    {
     "name": "stderr",
     "output_type": "stream",
     "text": [
      "[nltk_data] Downloading package words to C:\\Users\\Dharmang\n",
      "[nltk_data]     Solanki\\AppData\\Roaming\\nltk_data...\n",
      "[nltk_data]   Package words is already up-to-date!\n"
     ]
    }
   ],
   "source": [
    "import nltk\n",
    "nltk.download('words')\n",
    "words = set(nltk.corpus.words.words())\n",
    "def remove_non_english(content):\n",
    "    return \" \".join(w for w in nltk.wordpunct_tokenize(content) \n",
    "            if w.lower() in words or not w.isalpha())"
   ]
  },
  {
   "cell_type": "code",
   "execution_count": 7,
   "metadata": {},
   "outputs": [
    {
     "name": "stdout",
     "output_type": "stream",
     "text": [
      "['donald', 'j', 'trump', 'take', 'control', 'white', 'house', 'would', 'seem', 'dark', 'time', 'renewable', 'energy', 'industry', 'mr', 'trump', 'mocked', 'science', 'global', 'warming', 'chinese', 'hoax', 'threatened', 'kill', 'global', 'deal', 'climate', 'change', 'promised', 'restore', 'coal', 'industry', 'former', 'glory', 'consider', 'happened', 'middle', 'december', 'investors', 'month', 'absorb', 'implications', 'mr', 'trump', 'victory', 'federal', 'government', 'opened', 'bidding', 'tract', 'ocean', 'floor', 'new', 'york', 'state', 'potential', 'site', 'huge', 'wind', 'farm', 'away', 'soared', 'offers', 'interest', 'bidders', 'fevered', 'auction', 'went', 'rounds', 'spilled', 'second', 'day', 'end', 'winning', 'bidder', 'offered', 'federal', 'treasury', 'million', 'twice', 'government', 'got', 'august', 'oil', 'leases', 'oil', 'leases', 'gulf', 'mexico', 'bid', 'none', 'statoil', 'norwegian', 'oil', 'company', 'midst', 'major', 'campaign', 'turn', 'big', 'player', 'renewable', 'energy', 'know', 'sure', 'new', 'york', 'wind', 'farm', 'get', 'built', 'know', 'energy', 'transition', 'real', 'mr', 'trump', 'going', 'stop', 'global', 'scale', 'half', 'investment', 'new', 'electricity', 'generation', 'going', 'renewable', 'energy', 'billion', 'year', 'sign', 'powerful', 'momentum', 'become', 'wind', 'power', 'booming', 'united', 'states', 'industry', 'adding', 'manufacturing', 'jobs', 'reddest', 'states', 'mr', 'trump', 'appointees', 'examine', 'facts', 'learn', 'technician', 'projected', 'occupation', 'america', 'next', 'decade', 'election', 'mr', 'trump', 'left', 'climate', 'activists', 'environmental', 'groups', 'despair', 'pinned', 'hopes', 'hillary', 'clinton', 'victory', 'continuation', 'president', 'obama', 'strong', 'push', 'tackle', 'global', 'warming', 'course', 'everything', 'flux', 'worst', 'case', 'sufficiently', 'pliant', 'congress', 'mr', 'trump', 'could', 'roll', 'back', 'decade', 'progress', 'climate', 'change', 'barring', 'miraculous', 'conversion', 'mr', 'trump', 'part', 'election', 'cannot', 'interpreted', 'anything', 'bad', 'news', 'climate', 'agenda', 'yet', 'despair', 'might', 'overreaction', 'starters', 'mr', 'trump', 'gets', 'white', 'house', 'find', 'federal', 'government', 'actually', 'relatively', 'little', 'control', 'american', 'energy', 'policy', 'particularly', 'electricity', 'generation', 'coal', 'industry', 'ravaged', 'part', 'cheap', 'natural', 'gas', 'abundant', 'technological', 'changes', 'way', 'produced', 'lever', 'oval', 'office', 'mr', 'trump', 'pull', 'reverse', 'intrinsically', 'weak', 'federal', 'role', 'source', 'frustration', 'mr', 'obama', 'aides', 'work', 'benefit', 'environmental', 'advocates', 'already', 'persuaded', 'half', 'states', 'adopt', 'mandates', 'renewable', 'energy', 'efforts', 'roll', 'back', 'largely', 'failed', 'latest', 'development', 'coming', 'last', 'week', 'gov', 'john', 'kasich', 'ohio', 'republican', 'vetoed', 'rollback', 'bill', 'federal', 'government', 'offer', 'important', 'subsidies', 'renewable', 'energy', 'surely', 'become', 'target', 'new', 'congress', 'subsidies', 'already', 'scheduled', 'fall', 'drastically', 'five', 'years', 'deal', 'cut', 'year', 'ago', 'gave', 'oil', 'industry', 'favors', 'passed', 'congress', 'many', 'republican', 'votes', 'mr', 'trump', 'pushes', 'early', 'end', 'subsidies', 'find', 'renewable', 'energy', 'friends', 'republican', 'party', 'topping', 'list', 'charles', 'e', 'grassley', 'senior', 'senator', 'iowa', 'state', 'presidential', 'politics', 'let', 'us', 'remember', 'soon', 'getting', 'percent', 'electricity', 'wind', 'power', 'senator', 'grassley', 'continues', 'extraordinary', 'leader', 'champion', 'wind', 'industry', 'said', 'tom', 'kiernan', 'head', 'american', 'wind', 'energy', 'association', 'trade', 'group', 'spoke', 'last', 'week', 'mr', 'kiernan', 'sound', 'like', 'man', 'gnashing', 'teeth', 'impending', 'trump', 'era', 'group', 'calculations', 'billion', 'wind', 'industry', 'investment', 'pipeline', 'united', 'states', 'next', 'years', 'creating', 'jobs', 'throughout', 'america', 'jobs', 'think', 'trump', 'want', 'continue', 'said', 'mr', 'trump', 'really', 'wanted', 'roll', 'back', 'clock', 'could', 'try', 'get', 'congress', 'override', 'state', 'mandates', 'gross', 'violation', 'supposed', 'conservative', 'commitment', 'federalism', 'would', 'titanic', 'fight', 'republican', 'senators', 'would', 'defect', 'principle', 'mr', 'trump', 'would', 'almost', 'certainly', 'lose', 'damage', 'mr', 'trump', 'domestically', 'limited', 'circumstance', 'international', 'effort', 'global', 'warming', 'prospect', 'david', 'g', 'victor', 'worried', 'dr', 'victor', 'professor', 'university', 'california', 'san', 'diego', 'one', 'closest', 'observers', 'global', 'climate', 'politics', 'nations', 'world', 'agreed', 'year', 'ago', 'landmark', 'deal', 'tackle', 'global', 'warming', 'consensus', 'fragile', 'pointed', 'paris', 'agreement', 'really', 'outline', 'promise', 'reality', 'mr', 'trump', 'vowed', 'withdraw', 'right', 'countries', 'saying', 'go', 'forward', 'even', 'hard', 'imagine', 'thing', 'unraveling', 'part', 'negotiations', 'obama', 'administration', 'promised', 'billions', 'dollars', 'american', 'taxpayers', 'help', 'poor', 'countries', 'adjust', 'devastation', 'global', 'warming', 'big', 'part', 'glue', 'held', 'paris', 'deal', 'together', 'dr', 'victor', 'pointed', 'mr', 'trump', 'considered', 'likely', 'abandon', 'pledge', 'perhaps', 'biggest', 'threat', 'climate', 'agenda', 'posed', 'incoming', 'administration', 'anything', 'mr', 'trump', 'might', 'rather', 'energy', 'transition', 'real', 'still', 'earliest', 'stages', 'iowa', 'may', 'soon', 'get', 'percent', 'power', 'wind', 'united', 'states', 'whole', 'figure', 'closer', 'percent', 'transition', 'simply', 'happening', 'fast', 'enough', 'pledges', 'countries', 'made', 'paris', 'even', 'kept', 'ambitious', 'enough', 'meet', 'climate', 'goals', 'embodied', 'paris', 'agreement', 'world', 'needed', 'american', 'president', 'would', 'pushed', 'hard', 'accelerate', 'energy', 'transition', 'debate', 'whether', 'mrs', 'clinton', 'would', 'president', 'certainly', 'clear', 'mr', 'trump', 'washington', 'goes', 'reverse', 'gear', 'climate', 'policy', 'seas', 'keep', 'rising', 'heat', 'waves', 'get', 'worse', 'later', 'month', 'global', 'monitoring', 'agencies', 'expected', 'report', 'hottest', 'year', 'historical', 'record', 'beating', 'beat', 'nothing', 'else', 'next', 'four', 'years', 'may', 'fascinating', 'test', 'far', 'politics', 'become', 'divorced', 'physical', 'reality']\n"
     ]
    }
   ],
   "source": [
    "from nltk.corpus import stopwords\n",
    "def stop_words_filter(token_list):\n",
    "    stopword_set = set(stopwords.words('english'))    \n",
    "    filtered_tokens = []\n",
    "    for token in token_list:\n",
    "        if token not in stopword_set and token.isnumeric() == False:\n",
    "            filtered_tokens.append(token)\n",
    "    return filtered_tokens\n",
    "\n",
    "filtered_tokens = stop_words_filter(token_list)\n",
    "print(filtered_tokens)"
   ]
  },
  {
   "cell_type": "markdown",
   "metadata": {},
   "source": [
    "### As you can see we were able to remove a lot of unnecessary words from the tokens"
   ]
  },
  {
   "cell_type": "markdown",
   "metadata": {},
   "source": [
    "### Stemming and lemmatization\n",
    "#### For grammatical reasons, documents are going to use different forms of a word, such as organize, organizes, and organizing. Additionally, there are families of derivationally related words with similar meanings, such as democracy, democratic, and democratization. In many situations, it seems as if it would be useful for a search for one of these words to return documents that contain another word in the set.\n",
    "\n",
    "#### The goal of both stemming and lemmatization is to reduce inflectional forms and sometimes derivationally related forms of a word to a common base form. For instance:\n",
    "\n",
    "#### &emsp;  &emsp; am, are, is $\\Rightarrow$ be\n",
    "#### &emsp;  &emsp; car, cars, car's, cars' $\\Rightarrow$ car\n",
    "#### The result of this mapping of text will be something like:\n",
    "#### &emsp;  &emsp; the boy's cars are different colors $\\Rightarrow$\n",
    "#### &emsp;  &emsp; the boy car be differ color\n",
    "#### However, the two words differ in their flavor. Stemming usually refers to a crude heuristic process that chops off the ends of words in the hope of achieving this goal correctly most of the time, and often includes the removal of derivational affixes. Lemmatization usually refers to doing things properly with the use of a vocabulary and morphological analysis of words, normally aiming to remove inflectional endings only and to return the base or dictionary form of a word, which is known as the lemma . If confronted with the token saw, stemming might return just s, whereas lemmatization would attempt to return either see or saw depending on whether the use of the token was as a verb or a noun. The two may also differ in that stemming most commonly collapses derivationally related words, whereas lemmatization commonly only collapses the different inflectional forms of a lemma. Linguistic processing for stemming or lemmatization is often done by an additional plug-in component to the indexing process, and a number of such components exist, both commercial and open-source.\n",
    "\n",
    "#### For more information refer: https://nlp.stanford.edu/IR-book/html/htmledition/stemming-and-lemmatization-1.html"
   ]
  },
  {
   "cell_type": "markdown",
   "metadata": {},
   "source": [
    "### NOTE: In the below method if you uncomment the two print lines you will be able to see what this function is doing. This will help to improve the performance of count-based clustering techniques. Also it will reduce the size of sparse matrix.\n",
    "\n",
    "#### Example there are many examples which are being lemmatized like \n",
    "##### eg 1 . rounds => round \n",
    "##### eg 2 . leases => lease\n",
    "##### eg 3 . jobs => job\n",
    "##### eg 4 . appointees => appointee\n"
   ]
  },
  {
   "cell_type": "code",
   "execution_count": 8,
   "metadata": {},
   "outputs": [],
   "source": [
    "# Lemmatization \n",
    "from nltk.stem import WordNetLemmatizer\n",
    "def lemmatize_tokens(filtered_tokens):\n",
    "    lemmatized = []\n",
    "    lemmatizer = WordNetLemmatizer()\n",
    "    for token in filtered_tokens:\n",
    "        lemmatized.append(lemmatizer.lemmatize(token))\n",
    "        #print(\"token: \" + token)\n",
    "        #print(\"Lemmantized \"+lemmatizer.lemmatize(token))\n",
    "    lemmatized_string = ' '.join(lemmatized)\n",
    "    return lemmatized_string\n",
    "lemmatized_string = lemmatize_tokens(filtered_tokens)"
   ]
  },
  {
   "cell_type": "code",
   "execution_count": 9,
   "metadata": {},
   "outputs": [
    {
     "name": "stdout",
     "output_type": "stream",
     "text": [
      "0\n",
      "1000\n",
      "2000\n",
      "3000\n",
      "4000\n",
      "5000\n",
      "6000\n",
      "7000\n",
      "8000\n",
      "9000\n",
      "10000\n",
      "11000\n",
      "12000\n",
      "13000\n",
      "14000\n",
      "15000\n",
      "16000\n",
      "17000\n",
      "18000\n",
      "19000\n",
      "20000\n",
      "21000\n",
      "22000\n",
      "23000\n",
      "24000\n",
      "25000\n",
      "26000\n",
      "27000\n",
      "28000\n",
      "29000\n",
      "30000\n",
      "31000\n",
      "32000\n",
      "33000\n",
      "34000\n",
      "35000\n",
      "36000\n",
      "37000\n",
      "38000\n",
      "39000\n",
      "40000\n",
      "41000\n",
      "42000\n",
      "43000\n",
      "44000\n",
      "45000\n",
      "46000\n",
      "47000\n",
      "48000\n",
      "49000\n",
      "(50000, 1)\n"
     ]
    }
   ],
   "source": [
    "# Create a data pipeline to process the dataset \n",
    "from nltk.tokenize import word_tokenize\n",
    "def data_preprocessing(data_frame):\n",
    "\n",
    "    res = pd.DataFrame()\n",
    "    '''\n",
    "\n",
    "    # Step 1: Tokenization\n",
    "    tmp_data_frame = data_frame['content'][0:1000].apply(lambda row:tokenization(row))\n",
    "\n",
    "    # Step 2: Remove stop words\n",
    "    tmp_data_frame = tmp_data_frame.apply(lambda row: stop_words_filter(row))\n",
    "\n",
    "    # Step 3: Make a string\n",
    "    tmp_data_frame = tmp_data_frame.apply(lambda row: ' '.join(row))\n",
    "\n",
    "    res = pd.concat([res,tmp_data_frame])\n",
    "\n",
    "    '''\n",
    "    total_records = len(data_frame)  #50000\n",
    "    start = 0 \n",
    "    interval = ((total_records - start) // 50 ) #1000\n",
    "    # The processing in chunks will reduce the memory load\n",
    "    for i in range(start,total_records,interval):\n",
    "        \n",
    "        print(i)\n",
    "        # Step 1: Tokenization\n",
    "        tmp_data_frame = data_frame['content'][i:i+interval].apply(lambda row:tokenization(row))\n",
    "        \n",
    "        # Step 2: Remove stop words\n",
    "        tmp_data_frame = tmp_data_frame.apply(lambda row: stop_words_filter(row))\n",
    "        \n",
    "        # Step 3: Make a string\n",
    "        tmp_data_frame = tmp_data_frame.apply(lambda row: ' '.join(row))\n",
    "        \n",
    "        #Step 4: Reomve non-english words\n",
    "        tmp_data_frame = tmp_data_frame.apply(lambda row: remove_non_english(row))\n",
    "            \n",
    "        res = pd.concat([res,tmp_data_frame])\n",
    "        \n",
    "    res.columns = ['content']\n",
    "    return res\n",
    "\n",
    "df = data_preprocessing(data_frame)\n",
    "print(df.shape)"
   ]
  },
  {
   "cell_type": "code",
   "execution_count": 10,
   "metadata": {},
   "outputs": [
    {
     "name": "stdout",
     "output_type": "stream",
     "text": [
      "(50000, 42013)\n"
     ]
    }
   ],
   "source": [
    "from sklearn.feature_extraction.text import CountVectorizer\n",
    "def create_sparse_mat(corpus):\n",
    "    vectorizer = CountVectorizer()\n",
    "    x = vectorizer.fit_transform(corpus)\n",
    "    word_features = vectorizer.get_feature_names()\n",
    "    return x\n",
    "\n",
    "sparse_mat = create_sparse_mat(df['content'])\n",
    "print(sparse_mat.shape)    \n"
   ]
  },
  {
   "cell_type": "code",
   "execution_count": 11,
   "metadata": {},
   "outputs": [],
   "source": [
    "from sklearn.feature_extraction.text import TfidfTransformer\n",
    "from sklearn.feature_extraction.text import TfidfVectorizer\n",
    "from sklearn.cluster import KMeans\n",
    "vectorizer = TfidfTransformer()\n",
    "sparse_mat = vectorizer.fit_transform(sparse_mat)\n"
   ]
  },
  {
   "cell_type": "code",
   "execution_count": 12,
   "metadata": {},
   "outputs": [],
   "source": [
    "from sklearn.decomposition import TruncatedSVD\n",
    "pca = TruncatedSVD(n_components=100)\n",
    "sparse_mat = pca.fit_transform(sparse_mat)"
   ]
  },
  {
   "cell_type": "code",
   "execution_count": 13,
   "metadata": {},
   "outputs": [],
   "source": [
    "#kmeans = KMeans(n_clusters=10, random_state=0).fit(sparse_mat)\n",
    "#l = kmeans.labels_"
   ]
  },
  {
   "cell_type": "code",
   "execution_count": 22,
   "metadata": {},
   "outputs": [
    {
     "data": {
      "image/png": "[encoded data removed]",
      "text/plain": [
       "<Figure size 432x432 with 1 Axes>"
      ]
     },
     "metadata": {
      "needs_background": "light"
     },
     "output_type": "display_data"
    }
   ],
   "source": [
    "#kmeans2 = KMeans(n_clusters=20, random_state=0).fit(sparse_mat)\n",
    "#l2 = kmeans2.labels_\n",
    "from matplotlib import pyplot as plt\n",
    "from sklearn import metrics\n",
    "from collections import Counter\n",
    "sse = []\n",
    "davies_score =[]\n",
    "list_k = list(range(2, 10))\n",
    "for k in list_k:\n",
    "    kmeans = KMeans(n_clusters=k, random_state = 0).fit(sparse_mat)\n",
    "    l = kmeans.labels_\n",
    "    result = metrics.davies_bouldin_score(sparse_mat, l)\n",
    "    davies_score.append(result)\n",
    "    sse.append(kmeans.inertia_)\n",
    "\n",
    "# Plot sse against k\n",
    "plt.figure(figsize=(6, 6))\n",
    "plt.plot(list_k, sse, '-o')\n",
    "plt.xlabel(r'Number of clusters *k*')\n",
    "plt.ylabel('Sum of squared distance');\n"
   ]
  },
  {
   "cell_type": "code",
   "execution_count": 23,
   "metadata": {},
   "outputs": [
    {
     "data": {
      "image/png": "[encoded data removed]",
      "text/plain": [
       "<Figure size 432x432 with 1 Axes>"
      ]
     },
     "metadata": {
      "needs_background": "light"
     },
     "output_type": "display_data"
    }
   ],
   "source": [
    "plt.figure(figsize=(6, 6))\n",
    "plt.plot(list_k, davies_score, '-o')\n",
    "plt.xlabel(r'Number of clusters *k*')\n",
    "plt.ylabel('Davies Scores');\n"
   ]
  },
  {
   "cell_type": "code",
   "execution_count": null,
   "metadata": {},
   "outputs": [],
   "source": []
  }
 ],
 "metadata": {
  "kernelspec": {
   "display_name": "Python 3",
   "language": "python",
   "name": "python3"
  },
  "language_info": {
   "codemirror_mode": {
    "name": "ipython",
    "version": 3
   },
   "file_extension": ".py",
   "mimetype": "text/x-python",
   "name": "python",
   "nbconvert_exporter": "python",
   "pygments_lexer": "ipython3",
   "version": "3.7.7"
  }
 },
 "nbformat": 4,
 "nbformat_minor": 2
}
